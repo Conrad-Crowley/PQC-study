{
 "cells": [
  {
   "cell_type": "markdown",
   "metadata": {},
   "source": [
    "# Plotting functions and data"
   ]
  },
  {
   "cell_type": "markdown",
   "metadata": {},
   "source": [
    "We now have covered the basic elements of python and have encountered a number of built-in functions.  Let us now try to use Python for plotting. Since Python is used for a lot of different applications, we actually need to prepare it for the specific task of plotting by first executing the following three lines:"
   ]
  },
  {
   "cell_type": "code",
   "execution_count": 1,
   "metadata": {},
   "outputs": [],
   "source": [
    "import numpy as np\n",
    "import matplotlib.pyplot as plt"
   ]
  },
  {
   "cell_type": "markdown",
   "metadata": {},
   "source": [
    "One typical problem that comes up in many scientific disciplines is that you are asked to represent data or functions graphically. For example, you might be asked to plot the simple function $$f(x) = x^3 - x^2 - x + 3.$$ From what we learned, it seems natural that we first define this function:"
   ]
  },
  {
   "cell_type": "code",
   "execution_count": null,
   "metadata": {
    "collapsed": true
   },
   "outputs": [],
   "source": [
    "def f(x):\n",
    "    return x**3 - x**2 - x + 3"
   ]
  },
  {
   "cell_type": "markdown",
   "metadata": {},
   "source": [
    "This defines the function for arbitrary `x`. We can test that this works by evaluating it at a number of points:"
   ]
  },
  {
   "cell_type": "code",
   "execution_count": null,
   "metadata": {
    "collapsed": true
   },
   "outputs": [],
   "source": [
    "f(-2),f(1),f(0),f(3.5)"
   ]
  },
  {
   "cell_type": "markdown",
   "metadata": {},
   "source": [
    "We can also iterate over a list of numbers and apply the function `f()` individually to each element:"
   ]
  },
  {
   "cell_type": "code",
   "execution_count": null,
   "metadata": {
    "collapsed": true
   },
   "outputs": [],
   "source": [
    "mylist = [-2, 1, 0, 3.5]\n",
    "for i in mylist:\n",
    "    print(f(i))"
   ]
  },
  {
   "cell_type": "markdown",
   "metadata": {},
   "source": [
    "This agrees with what we expect.  In order to plot `f(x)` it would however be much more convenient, if we could evaluate `f()` for a list of numbers in one go, for example\n",
    "\n",
    "    f([-2, 1, 0, 3.5])\n",
    "    \n",
    "however, this does not work (try it out!). The reason is that the function uses expressions like `x**3` which is not defined for normal python lists.  In order to overcome this problem, we now use a special type of lists for which mathematical operations like `x**3` *are* defined. The desired list is called a *numpy array* or simply an *array* and is provided through the Python library [numpy](http://www.numpy.org/). \n",
    "\n",
    "Through the above line of code \n",
    "\n",
    "    import numpy as np\n",
    "we have imported the `numpy` library and have given it the acronym `np`.  After doing so, we can now access functions of this library. \n",
    "\n",
    "The fundamental objects in the `numpy` library are *arrays* of numbers.  If we have a \"normal\" list of numbers, we can convert it as follows:"
   ]
  },
  {
   "cell_type": "code",
   "execution_count": null,
   "metadata": {
    "collapsed": true
   },
   "outputs": [],
   "source": [
    "mylist = [-2, 1, 0, 3.5]\n",
    "myarray = np.array(mylist)\n",
    "myarray"
   ]
  },
  {
   "cell_type": "markdown",
   "metadata": {},
   "source": [
    "For (numpy) arrays, the operations `myarray**2` and so on are defined by squaring simply every number in the array individually, i.e."
   ]
  },
  {
   "cell_type": "code",
   "execution_count": null,
   "metadata": {
    "collapsed": true
   },
   "outputs": [],
   "source": [
    "myarray**2"
   ]
  },
  {
   "cell_type": "markdown",
   "metadata": {},
   "source": [
    "This would not have worked for \"normal\" lists. Therefore the expression `x**3 - x**2 - x + 3` which appears above in the function `f()` makes equally sense for `x` being a number or an array. We can therefore call `f()` with an array as its argument and get back a new array as follows:"
   ]
  },
  {
   "cell_type": "code",
   "execution_count": null,
   "metadata": {
    "collapsed": true
   },
   "outputs": [],
   "source": [
    "f(myarray)"
   ]
  },
  {
   "cell_type": "markdown",
   "metadata": {},
   "source": [
    "When we want to plot a function, we usually want to evaluate it at a number of equally spaced positions.  A useful function to generate an array with equal spacing is `np.linspace()`"
   ]
  },
  {
   "cell_type": "code",
   "execution_count": null,
   "metadata": {
    "collapsed": true
   },
   "outputs": [],
   "source": [
    "myxspace=np.linspace(-2,2,5)\n",
    "myxspace"
   ]
  },
  {
   "cell_type": "markdown",
   "metadata": {},
   "source": [
    "Here we have used a new function `linspace(start, end, number)` which takes the arguments of the startpoint, the endpoint and the number of points that you want.  Of course, `np.linspace()` does not just return a simple list, but an *array*. "
   ]
  },
  {
   "cell_type": "code",
   "execution_count": null,
   "metadata": {
    "collapsed": true
   },
   "outputs": [],
   "source": [
    "myxspace**2"
   ]
  },
  {
   "cell_type": "code",
   "execution_count": null,
   "metadata": {
    "collapsed": true
   },
   "outputs": [],
   "source": [
    "myxspace**3"
   ]
  },
  {
   "cell_type": "markdown",
   "metadata": {},
   "source": [
    "We can therefore in particular calculate `f(myxspace)` and obtain an array."
   ]
  },
  {
   "cell_type": "code",
   "execution_count": null,
   "metadata": {
    "collapsed": true
   },
   "outputs": [],
   "source": [
    "f(myxspace)"
   ]
  },
  {
   "cell_type": "markdown",
   "metadata": {},
   "source": [
    "When we say that we want to *plot the function*, what we really mean is that we want to evaluate the function at a number of points $x_1,\\ldots,x_n$, and then connect the points $(x_1,f(x_1))$, $(x_2,f(x_2))$, and so on with straight lines. We do this by:"
   ]
  },
  {
   "cell_type": "code",
   "execution_count": null,
   "metadata": {
    "collapsed": true
   },
   "outputs": [],
   "source": [
    "plt.plot(myxspace,f(myxspace))"
   ]
  },
  {
   "cell_type": "markdown",
   "metadata": {},
   "source": [
    "Obviously, with just five points, the result does not look very impressive, but we can easily improve by increasing the number of points and adding some labels to the axis:"
   ]
  },
  {
   "cell_type": "code",
   "execution_count": null,
   "metadata": {
    "collapsed": true
   },
   "outputs": [],
   "source": [
    "myxspace=np.linspace(-2,2,100)\n",
    "plt.plot(myxspace,f(myxspace))\n",
    "plt.xlabel(\"x\")\n",
    "plt.ylabel(\"f(x)\")"
   ]
  },
  {
   "cell_type": "markdown",
   "metadata": {},
   "source": [
    "Sometimes you might want to plot more than just one curve. You can do this by just adding extra lines as follows:"
   ]
  },
  {
   "cell_type": "code",
   "execution_count": null,
   "metadata": {
    "collapsed": true
   },
   "outputs": [],
   "source": [
    "myxspace=np.linspace(-2,2,100)\n",
    "plt.plot(myxspace,f(myxspace))\n",
    "plt.plot(myxspace,-f(myxspace))\n",
    "plt.plot(myxspace,f(myxspace)-2)\n",
    "plt.xlabel(\"x\")\n",
    "plt.ylabel(\"f(x)\")"
   ]
  },
  {
   "cell_type": "markdown",
   "metadata": {},
   "source": [
    "Similarly, you sometimes want to zoom in into a particular area, and you might also want to save it as a pdf file, so that you can use the figure in other documents."
   ]
  },
  {
   "cell_type": "code",
   "execution_count": null,
   "metadata": {
    "collapsed": true
   },
   "outputs": [],
   "source": [
    "myxspace=np.linspace(-2,2,100)\n",
    "plt.plot(myxspace,f(myxspace))\n",
    "plt.plot(myxspace,-f(myxspace))\n",
    "plt.plot(myxspace,f(myxspace)-2)\n",
    "plt.xlabel(\"x\")\n",
    "plt.ylabel(\"f(x)\")\n",
    "plt.xlim(-1.5,0.5)\n",
    "plt.ylim(-6,6)\n",
    "plt.savefig(\"Myfig.pdf\")"
   ]
  },
  {
   "cell_type": "code",
   "execution_count": null,
   "metadata": {
    "collapsed": true
   },
   "outputs": [],
   "source": [
    "myxspace=np.linspace(-2,2,100)\n",
    "plt.plot(myxspace,f(myxspace))\n",
    "plt.plot(myxspace,-f(myxspace),linestyle=\"--\")\n",
    "plt.plot(myxspace,f(myxspace)-2,linestyle=\":\")\n",
    "plt.xlabel(\"x\")\n",
    "plt.ylabel(\"f(x)\")"
   ]
  },
  {
   "cell_type": "markdown",
   "metadata": {},
   "source": [
    "As you can imagine, there are a lot more options for plotting that you can tune, for example you would like to add a legend to your graph, maybe you want to do bar-charts, maybe you want to add error bars or other things to your plot. All this is indeed possible in python, but it would be tedious to try to memorize all different options available. In particular since you might only use some of the many options rarely, and some of them never at all. \n",
    "\n",
    "The recommended approach is the following:\n",
    "\n",
    "1. learn some of the basic plotting commands, so that you can quickly see the data for yourself\n",
    "2. to make production ready nice graphs, consult the [Matplotlib examples website](http://www.matplotlib.org/gallery.html). \n",
    "3. Try to find an example of the feature you are looking for\n",
    "3. run the example unchanged\n",
    "4. try to understand the code that they use to implement the feature in question\n",
    "5. adapt your code so that it implements the feature you are looking for. \n",
    "\n",
    "For example in the above graph, we might like to add a legend box, which tells us, what curve is what. If we browse through the  [Matplotlib gallery](http://www.matplotlib.org/gallery.html) a bit we might find for instance that the [legend_demo](http://matplotlib.org/examples/api/legend_demo.html) is sufficiently close to what we might want. Let's click it and we are shown a page which contains a snippet of code. Let's c&p that code into a cell and see if we can run it:"
   ]
  },
  {
   "cell_type": "code",
   "execution_count": null,
   "metadata": {
    "collapsed": true
   },
   "outputs": [],
   "source": [
    "import numpy as np\n",
    "import matplotlib.pyplot as plt\n",
    "\n",
    "# Make some fake data.\n",
    "a = b = np.arange(0,3, .02)\n",
    "c = np.exp(a)\n",
    "d = c[::-1]\n",
    "\n",
    "# Create plots with pre-defined labels.\n",
    "plt.plot(a, c, 'k--', label='Model length')\n",
    "plt.plot(a, d, 'k:', label='Data length')\n",
    "plt.plot(a, c+d, 'k', label='Total message length')\n",
    "\n",
    "legend = plt.legend(loc='upper center', shadow=True, fontsize='x-large')\n",
    "\n",
    "# Put a nicer background color on the legend.\n",
    "legend.get_frame().set_facecolor('#00FFCC')\n",
    "\n",
    "plt.show()"
   ]
  },
  {
   "cell_type": "markdown",
   "metadata": {},
   "source": [
    "Okay, we now have reproduced the example. The next step in the list was to try to *understand* the example. Let's go through it line by line:\n",
    "\n",
    "    import numpy as np\n",
    "    import matplotlib.pyplot as plt\n",
    "\n",
    "When you check through the other examples on the website, you will notice that they mostly start with these two lines. As explained before, this makes the two libraries [numpy](http://www.numpy.org/) and [matplotlib](http://matplotlib.org/) available for further use in python. `numpy` is a library which deals with arrays of numbers (the function `linarray` we used above was part of `numpy`).\n",
    "\n",
    "\n",
    "    # Make some fake data.\n",
    "    a = b = np.arange(0,3, .02)\n",
    "\n",
    "here we use a function in the `numpy` library called `arange` which produces a (numpy) array with the 150 numbers `[0, 0.2, ..., 2.98 ]` and assigns it to both `a` and `b`. We could replace this line with `a = b = np.linspace(0, 3, 150, endpoint=False)`. Note that the `np` here refers to the name we choose when numpy was imported in the first line. \n",
    "\n",
    "    c = np.exp(a)\n",
    "    \n",
    "This yields a new array `c` by applying the exponent to each element in `a`.\n",
    "    \n",
    "    d = c[::-1]\n",
    "    \n",
    "`d` becomes the same as `c`, except for the order being reversed. \n",
    "\n",
    "    # Create plots with pre-defined labels.\n",
    "    plt.plot(a, c, 'k--', label='Model length')\n",
    "\n",
    "This now plots the array in `c` at the points stored in array `a`. Note that here `plt.plot` is used, instead of simply `plot`, as we did before. Here `plt` was the acronym assigned to the matplotlib library when it was imported. `plt.plot` therefore explicitly refers to the function `plot` from the matplotlib library. The string `'k--'` refers to the style of the plot. The letter `k` refers to blac**k** (obviously, the letter `b` is already taken by **b**lue) and `--` denotes a dashed line. Instead of `'k--'` you could also say `color=\"black\", linestyle=\"dashed\"` if you like to make it more explicit. If you want a full explanation of all possible color codes, linestyles, etc, type three times `shift-tab` with your coursor inside the brackets of the plt.plot command. \n",
    "\n",
    "Finally the last optional argument `label='Model length'` is the reason why we started to look at this example in the first place, namely how to label individual curves.  Okay, this part turns out to be easy. \n",
    "\n",
    "    plt.plot(a, d, 'k:', label='Data length')\n",
    "    plt.plot(a, c+d, 'k', label='Total message length')\n",
    "\n",
    "These two lines should be clear now. Remember that \":\" denotes dotted lines. \n",
    "\n",
    "    legend = plt.legend(loc='upper center', shadow=True, fontsize='x-large')\n",
    "\n",
    "This switches on the legend box, and puts the previously defined `label`s inside. Because this is meant to be a textbook example, it also domonstrates how the fontsize position and background can be changed. You might not always need that and just get away with `plt.legend()` to switch on the legend box.  \n",
    "\n",
    "    # Put a nicer background color on the legend.\n",
    "    legend.get_frame().set_facecolor('#00FFCC')\n",
    "    \n",
    "Again, just to show what is possible, this changes the color of the legend box to a *nicer* color, although taste is debateable ... In case you wonder what `'#00FFCC'` means, have a read up on the so-called [RGB model](https://en.wikipedia.org/wiki/RGB_color_model).\n",
    "\n",
    "    plt.show()\n",
    "\n",
    "This make sure that the plot is displayed. If you only need a single plot in a single notebook cell, this line is actually not needed. \n",
    "\n",
    "Now that we have fully understood this little textbook example, let use what we have learned to add line labels and a legend box to our previous example.  A self-contained version of our previous example would therefore be:"
   ]
  },
  {
   "cell_type": "code",
   "execution_count": null,
   "metadata": {
    "collapsed": true
   },
   "outputs": [],
   "source": [
    "import numpy as np\n",
    "import matplotlib.pyplot as plt\n",
    "\n",
    "def f(x):\n",
    "    return x**3 - x**2 - x + 3\n",
    "\n",
    "myxspace = np.linspace(-2, 2, 100)\n",
    "plt.plot(myxspace, f(myxspace), label=\"f(x)\")\n",
    "plt.plot(myxspace, -f(myxspace), linestyle=\"--\", label=\"-f(x)\")\n",
    "plt.plot(myxspace, f(myxspace)-2, linestyle=\":\", label=\"f(x)-2\")\n",
    "plt.xlabel(\"x\")\n",
    "plt.ylabel(\"f(x)\")\n",
    "plt.legend()"
   ]
  },
  {
   "cell_type": "markdown",
   "metadata": {},
   "source": [
    "Now we finally solved the problem of adding labels to our lines. Maybe in this case, there is still a small problem, that the labels look like text **f(x)-2**, but in this case we would prefer if it looked like the formula $f(x) -2$.  We can do this by enclosing the parts which are supposed to be formulas using dollar signs `$` as follows:"
   ]
  },
  {
   "cell_type": "code",
   "execution_count": null,
   "metadata": {
    "collapsed": true
   },
   "outputs": [],
   "source": [
    "import numpy as np\n",
    "import matplotlib.pyplot as plt\n",
    "\n",
    "def f(x):\n",
    "    return x**3 - x**2 - x + 3\n",
    "\n",
    "myxspace = np.linspace(-2, 2, 100)\n",
    "plt.plot(myxspace, f(myxspace), label=r\"$f(x)$\")\n",
    "plt.plot(myxspace, -f(myxspace), linestyle=\"--\", label=r\"$-f(x)$\")\n",
    "plt.plot(myxspace, f(myxspace)-2, linestyle=\":\", label=r\"$f(x)-2$\")\n",
    "plt.xlabel(r\"$x$\")\n",
    "plt.ylabel(r\"$f(x)$\")\n",
    "plt.legend()"
   ]
  },
  {
   "cell_type": "markdown",
   "metadata": {},
   "source": [
    "Note, that here we also introduced the notation `r\"...\"` which indicates that a string is considered *raw*.  This is a slightly advanced featurer, which essentially means that we tell the python parser to not pre-process the string. We will come back to this, when we deal with LaTeX. "
   ]
  },
  {
   "cell_type": "markdown",
   "metadata": {},
   "source": [
    "## Two dimensional Arrays\n",
    "\n",
    "So far, we have used `numpy` arrays to represent essentially lists of numbers, i.e. objects, which mathematically can be loosely associated with vectors $v\\in \\mathbb{R}^n$.  In practice, data comes often naturally in the form of a numbers of columns (or tables), not just a single column. These tables of data can also be realised using `numpy`, for instance a table with two column and four rows is given by "
   ]
  },
  {
   "cell_type": "code",
   "execution_count": null,
   "metadata": {
    "collapsed": true
   },
   "outputs": [],
   "source": [
    "A = np.array([\n",
    "        [2.0, 3.0],\n",
    "        [7.0, -1.0],\n",
    "        [5.2, 6.1],\n",
    "        [0.5, 2.1],\n",
    "    ])\n",
    "A"
   ]
  },
  {
   "cell_type": "markdown",
   "metadata": {},
   "source": [
    "Using `A.shape` we can check that the array has the right shape,"
   ]
  },
  {
   "cell_type": "code",
   "execution_count": null,
   "metadata": {
    "collapsed": true
   },
   "outputs": [],
   "source": [
    "A.shape"
   ]
  },
  {
   "cell_type": "markdown",
   "metadata": {},
   "source": [
    "Note that the first index in `A.shape` corresponds to the number of rows and the second index is the number of columns.  We can now access individual elements as before by addressing them as follows"
   ]
  },
  {
   "cell_type": "code",
   "execution_count": null,
   "metadata": {
    "collapsed": true
   },
   "outputs": [],
   "source": [
    "A[2,1], A[3,0]"
   ]
  },
  {
   "cell_type": "markdown",
   "metadata": {},
   "source": [
    "Note that you can still index `A` with only a single index to refer to a particular *line* in the table:"
   ]
  },
  {
   "cell_type": "code",
   "execution_count": null,
   "metadata": {
    "collapsed": true
   },
   "outputs": [],
   "source": [
    "A[2]"
   ]
  },
  {
   "cell_type": "markdown",
   "metadata": {},
   "source": [
    "For plotting, you would however like to select one particular *column* for example elements `A[0,0]`, `A[1,0]`, `A[2,0]` and `A[3,0]` which form the first column in the above example. In order to do this, we again use the notation with colon to address a range in a particular index, i.e."
   ]
  },
  {
   "cell_type": "code",
   "execution_count": null,
   "metadata": {
    "collapsed": true
   },
   "outputs": [],
   "source": [
    "A[:,0]"
   ]
  },
  {
   "cell_type": "markdown",
   "metadata": {},
   "source": [
    "We can now plot the first versus the second column in this example with "
   ]
  },
  {
   "cell_type": "code",
   "execution_count": null,
   "metadata": {
    "collapsed": true
   },
   "outputs": [],
   "source": [
    "plt.plot(A[:,0],A[:,1])"
   ]
  },
  {
   "cell_type": "markdown",
   "metadata": {},
   "source": [
    "Of course, what we have called *table*, can as well be called a *matrix*, and indeed we can do normal matrix aperations with `A`.  For example `A.T` refers to the transpose $A^T$ of $A$"
   ]
  },
  {
   "cell_type": "code",
   "execution_count": null,
   "metadata": {
    "collapsed": true
   },
   "outputs": [],
   "source": [
    "A.T"
   ]
  },
  {
   "cell_type": "markdown",
   "metadata": {},
   "source": [
    "There are two ways of multiplying two matrices with each other, and therefore two symbols are used to distinguish the cases in `python`. Elementwise multiplication uses the normal `*` operation, however matrix  multiplication uses the operation `@`. For example if we want to calculate $A\\cdot  A^T$ we write"
   ]
  },
  {
   "cell_type": "code",
   "execution_count": null,
   "metadata": {
    "collapsed": true
   },
   "outputs": [],
   "source": [
    "A @ A.T"
   ]
  },
  {
   "cell_type": "markdown",
   "metadata": {},
   "source": [
    "\n",
    "## Plotting data from a file"
   ]
  },
  {
   "cell_type": "markdown",
   "metadata": {},
   "source": [
    "One common problem is to plot data which is available in a file somewhere on your computer. For example assume that you want to plot the data of tree rings over the last 400 years in Canada. The relevant data was downloaded from the Internet at (http://www.climatedata.info/proxies/data-downloads/) and is stored in \"Canada.csv\" in the public directory. Copy it over to your directory. If you open this file with a text editor, for example notepad, the first and last couple of lines come up as follows:\n",
    "\n",
    "    The copyright to the intellectual property of this file is held by www.climatedata.info\n",
    "    Source,http://www.ncdc.noaa.gov/paleo/treering.html\n",
    "    ,20yr-ma,Canada,Campbell,Mt Cain\n",
    "    ,,,Sziecz,Parish\n",
    "    1600,,872.5,720,1025\n",
    "    1601,,900.5,933,868\n",
    "    1602,,804.5,704,905\n",
    "    1603,,788,842,734\n",
    "    1604,,926,1001,851\n",
    "    1605,,808,775,841\n",
    "    1606,,947.5,970,925\n",
    "    1607,,910.5,842,979\n",
    "    1608,,931.5,854,1009\n",
    "    1609,,902,898,906\n",
    "    1610,915.3095238,1015,1098,932\n",
    "    1611,922.3095238,948.5,982,915\n",
    "    1612,925.6190476,938,952,924\n",
    "    1613,932.7380952,1029.5,932,1127\n",
    "    1614,934.8571429,962,888,1036\n",
    "    ...\n",
    "    ...\n",
    "    1991,,851.5,868,835\n",
    "    1992,,958,1127,789\n",
    "    1993,,,,\n",
    "    1994,,,,\n",
    "    1995,,,,\n",
    "    1996,,,,\n",
    "    1997,,,,\n",
    "    1998\n",
    "    1999\n",
    "    2000\n",
    "    2001\n",
    "\n",
    "\n",
    "The first two lines provide information on the source and copyright of the data. The next two lines give some information about the format of the file, the locations were the data was measured, and by whom the data was collected. Then the proper data lines start, with a typical line as follows:\n",
    "\n",
    "    1613,932.7380952,1029.5,932,1127\n",
    "    \n",
    "Here we see that there are five numbers per row, which are separated by a comma \"`,`\". This format is called \"comma separated value\" format, and is usually abbreviated by \"CSV\". That also explains the naming convention of the file \"Canada.csv\".\n",
    "\n",
    "We would like to read the data in this file into a numpy array, so that we can work with it from within python. First you should make sure that the file is located in the same directory as your notebook file. Then you should now be able to load in the data as follows:"
   ]
  },
  {
   "cell_type": "code",
   "execution_count": 2,
   "metadata": {
    "collapsed": true
   },
   "outputs": [],
   "source": [
    "A=np.genfromtxt(\"Canada.csv\",delimiter=\",\",skip_header=4,skip_footer=4)"
   ]
  },
  {
   "cell_type": "markdown",
   "metadata": {},
   "source": [
    "Here we have specified the comma as a delimiter. We have thrown out the first four and the last four lines of the file, as they obviously do not follow the structure of the remaining file. \n",
    "\n",
    "Now you can check what you have in the first line and last line:"
   ]
  },
  {
   "cell_type": "code",
   "execution_count": 3,
   "metadata": {},
   "outputs": [
    {
     "name": "stdout",
     "output_type": "stream",
     "text": [
      "[ 1600.      nan   872.5   720.   1025. ]\n",
      "[ 1997.    nan    nan    nan    nan]\n"
     ]
    }
   ],
   "source": [
    "print(A[0])\n",
    "print(A[-1])"
   ]
  },
  {
   "cell_type": "markdown",
   "metadata": {},
   "source": [
    "Compare this with first and last data lines in your data file:\n",
    "    1600,,872.5,720,1025\n",
    "    ....\n",
    "    1997,,,,\n",
    "\n",
    "We note that numbers which are missing are represented by a number of the name \"nan\". This symbol is an acronym for *Not A Number* and is mostly a placeholder for something, which cannot be reasonably represented by a number. \n",
    "\n",
    "From the output above we see that when we were reading in the file `Canada.csv` we did not simply get a long list of numbers, but instead, the structure of rows and colomns in the file is preserved in `A`. This means that `A` is now a two-dimensional array (or matrix). We can thus access the number `720` in the first line through:"
   ]
  },
  {
   "cell_type": "code",
   "execution_count": null,
   "metadata": {
    "collapsed": true
   },
   "outputs": [],
   "source": [
    "A[0,3]"
   ]
  },
  {
   "cell_type": "markdown",
   "metadata": {},
   "source": [
    "where `0` is now the row index and `3` is the columnindex. If you want to know, how many rows and columns the matrix `A` has you write"
   ]
  },
  {
   "cell_type": "code",
   "execution_count": 4,
   "metadata": {},
   "outputs": [
    {
     "data": {
      "text/plain": [
       "(398, 5)"
      ]
     },
     "execution_count": 4,
     "metadata": {},
     "output_type": "execute_result"
    }
   ],
   "source": [
    "A.shape"
   ]
  },
  {
   "cell_type": "markdown",
   "metadata": {},
   "source": [
    "which means that we have 398 rows of data, and each row has 5 columns. We know already that we can access the first row through A[0]. If we want to access the first column (representing the year in this case), we write:"
   ]
  },
  {
   "cell_type": "code",
   "execution_count": 5,
   "metadata": {},
   "outputs": [
    {
     "data": {
      "text/plain": [
       "array([ 1600.,  1601.,  1602.,  1603.,  1604.,  1605.,  1606.,  1607.,\n",
       "        1608.,  1609.,  1610.,  1611.,  1612.,  1613.,  1614.,  1615.,\n",
       "        1616.,  1617.,  1618.,  1619.,  1620.,  1621.,  1622.,  1623.,\n",
       "        1624.,  1625.,  1626.,  1627.,  1628.,  1629.,  1630.,  1631.,\n",
       "        1632.,  1633.,  1634.,  1635.,  1636.,  1637.,  1638.,  1639.,\n",
       "        1640.,  1641.,  1642.,  1643.,  1644.,  1645.,  1646.,  1647.,\n",
       "        1648.,  1649.,  1650.,  1651.,  1652.,  1653.,  1654.,  1655.,\n",
       "        1656.,  1657.,  1658.,  1659.,  1660.,  1661.,  1662.,  1663.,\n",
       "        1664.,  1665.,  1666.,  1667.,  1668.,  1669.,  1670.,  1671.,\n",
       "        1672.,  1673.,  1674.,  1675.,  1676.,  1677.,  1678.,  1679.,\n",
       "        1680.,  1681.,  1682.,  1683.,  1684.,  1685.,  1686.,  1687.,\n",
       "        1688.,  1689.,  1690.,  1691.,  1692.,  1693.,  1694.,  1695.,\n",
       "        1696.,  1697.,  1698.,  1699.,  1700.,  1701.,  1702.,  1703.,\n",
       "        1704.,  1705.,  1706.,  1707.,  1708.,  1709.,  1710.,  1711.,\n",
       "        1712.,  1713.,  1714.,  1715.,  1716.,  1717.,  1718.,  1719.,\n",
       "        1720.,  1721.,  1722.,  1723.,  1724.,  1725.,  1726.,  1727.,\n",
       "        1728.,  1729.,  1730.,  1731.,  1732.,  1733.,  1734.,  1735.,\n",
       "        1736.,  1737.,  1738.,  1739.,  1740.,  1741.,  1742.,  1743.,\n",
       "        1744.,  1745.,  1746.,  1747.,  1748.,  1749.,  1750.,  1751.,\n",
       "        1752.,  1753.,  1754.,  1755.,  1756.,  1757.,  1758.,  1759.,\n",
       "        1760.,  1761.,  1762.,  1763.,  1764.,  1765.,  1766.,  1767.,\n",
       "        1768.,  1769.,  1770.,  1771.,  1772.,  1773.,  1774.,  1775.,\n",
       "        1776.,  1777.,  1778.,  1779.,  1780.,  1781.,  1782.,  1783.,\n",
       "        1784.,  1785.,  1786.,  1787.,  1788.,  1789.,  1790.,  1791.,\n",
       "        1792.,  1793.,  1794.,  1795.,  1796.,  1797.,  1798.,  1799.,\n",
       "        1800.,  1801.,  1802.,  1803.,  1804.,  1805.,  1806.,  1807.,\n",
       "        1808.,  1809.,  1810.,  1811.,  1812.,  1813.,  1814.,  1815.,\n",
       "        1816.,  1817.,  1818.,  1819.,  1820.,  1821.,  1822.,  1823.,\n",
       "        1824.,  1825.,  1826.,  1827.,  1828.,  1829.,  1830.,  1831.,\n",
       "        1832.,  1833.,  1834.,  1835.,  1836.,  1837.,  1838.,  1839.,\n",
       "        1840.,  1841.,  1842.,  1843.,  1844.,  1845.,  1846.,  1847.,\n",
       "        1848.,  1849.,  1850.,  1851.,  1852.,  1853.,  1854.,  1855.,\n",
       "        1856.,  1857.,  1858.,  1859.,  1860.,  1861.,  1862.,  1863.,\n",
       "        1864.,  1865.,  1866.,  1867.,  1868.,  1869.,  1870.,  1871.,\n",
       "        1872.,  1873.,  1874.,  1875.,  1876.,  1877.,  1878.,  1879.,\n",
       "        1880.,  1881.,  1882.,  1883.,  1884.,  1885.,  1886.,  1887.,\n",
       "        1888.,  1889.,  1890.,  1891.,  1892.,  1893.,  1894.,  1895.,\n",
       "        1896.,  1897.,  1898.,  1899.,  1900.,  1901.,  1902.,  1903.,\n",
       "        1904.,  1905.,  1906.,  1907.,  1908.,  1909.,  1910.,  1911.,\n",
       "        1912.,  1913.,  1914.,  1915.,  1916.,  1917.,  1918.,  1919.,\n",
       "        1920.,  1921.,  1922.,  1923.,  1924.,  1925.,  1926.,  1927.,\n",
       "        1928.,  1929.,  1930.,  1931.,  1932.,  1933.,  1934.,  1935.,\n",
       "        1936.,  1937.,  1938.,  1939.,  1940.,  1941.,  1942.,  1943.,\n",
       "        1944.,  1945.,  1946.,  1947.,  1948.,  1949.,  1950.,  1951.,\n",
       "        1952.,  1953.,  1954.,  1955.,  1956.,  1957.,  1958.,  1959.,\n",
       "        1960.,  1961.,  1962.,  1963.,  1964.,  1965.,  1966.,  1967.,\n",
       "        1968.,  1969.,  1970.,  1971.,  1972.,  1973.,  1974.,  1975.,\n",
       "        1976.,  1977.,  1978.,  1979.,  1980.,  1981.,  1982.,  1983.,\n",
       "        1984.,  1985.,  1986.,  1987.,  1988.,  1989.,  1990.,  1991.,\n",
       "        1992.,  1993.,  1994.,  1995.,  1996.,  1997.])"
      ]
     },
     "execution_count": 5,
     "metadata": {},
     "output_type": "execute_result"
    }
   ],
   "source": [
    "A[:,0]"
   ]
  },
  {
   "cell_type": "markdown",
   "metadata": {},
   "source": [
    "Similarly, we can access the second column (representing the 20 year moving average data of the tree ring width) through `A[:,1]`. \n",
    "Finally, a selfcontained snippet of code to plot these two colomns would be"
   ]
  },
  {
   "cell_type": "code",
   "execution_count": 29,
   "metadata": {},
   "outputs": [
    {
     "data": {
      "text/plain": [
       "<matplotlib.legend.Legend at 0x7f5e801c36d8>"
      ]
     },
     "execution_count": 29,
     "metadata": {},
     "output_type": "execute_result"
    },
    {
     "data": {
      "image/png": "[encoded data removed]",
      "text/plain": [
       "<matplotlib.figure.Figure at 0x7f5e801c3eb8>"
      ]
     },
     "metadata": {},
     "output_type": "display_data"
    }
   ],
   "source": [
    "import numpy as np\n",
    "import matplotlib.pyplot as plt\n",
    "\n",
    "A=np.genfromtxt(\"Canada.csv\",delimiter=\",\",skip_header=4,skip_footer=4)\n",
    "plt.xlabel(\"year\")\n",
    "plt.ylabel(\"tree ring width in Canada\")\n",
    "plt.plot(A[:,0],A[:,1],label=\"20 year moving average\")\n",
    "\n",
    "plt.legend()"
   ]
  },
  {
   "cell_type": "markdown",
   "metadata": {},
   "source": [
    "This is now just a plot of the data. In science, you often look for unusual of intriguing features in your data. Here you see that the growth of rings was at its slowest around 1750 and at its heighest shortly after that. If you came up with a convincing explanation, why that would be the case, this might be the basis for a publication, if nobody found it before you. "
   ]
  },
  {
   "cell_type": "markdown",
   "metadata": {},
   "source": [
    "# Interactive Plots"
   ]
  },
  {
   "cell_type": "markdown",
   "metadata": {},
   "source": [
    "Let us consider the following function, which produces a plot of $\\sin(k x)$ on the interval $x\\in\\left[0,20\\right]$"
   ]
  },
  {
   "cell_type": "code",
   "execution_count": 30,
   "metadata": {
    "collapsed": true
   },
   "outputs": [],
   "source": [
    "import numpy as np\n",
    "import matplotlib.pyplot as plt\n",
    "\n",
    "def sinplot(k=3):\n",
    "    myx = np.linspace(0.0,20.0,500)\n",
    "    plt.xlim(0,20.0)\n",
    "    plt.ylim(-1.5,1.5)\n",
    "    plt.xlabel(\"$x$\")\n",
    "    plt.ylabel(\"$sin(k x)$\")\n",
    "    plt.plot(myx, np.sin(k * myx) )\n",
    "    plt.show()\n",
    "    "
   ]
  },
  {
   "cell_type": "markdown",
   "metadata": {},
   "source": [
    "After you have defined such a function, you often want to explore, what happens if you call this function with a number of different values:"
   ]
  },
  {
   "cell_type": "code",
   "execution_count": 31,
   "metadata": {},
   "outputs": [
    {
     "data": {
      "image/png": "[encoded data removed]",
      "text/plain": [
       "<matplotlib.figure.Figure at 0x7f5e7fef6e10>"
      ]
     },
     "metadata": {},
     "output_type": "display_data"
    },
    {
     "data": {
      "image/png": "[encoded data removed]",
      "text/plain": [
       "<matplotlib.figure.Figure at 0x7f5e80242b00>"
      ]
     },
     "metadata": {},
     "output_type": "display_data"
    },
    {
     "data": {
      "image/png": "[encoded data removed]",
      "text/plain": [
       "<matplotlib.figure.Figure at 0x7f5e7feff278>"
      ]
     },
     "metadata": {},
     "output_type": "display_data"
    },
    {
     "data": {
      "image/png": "[encoded data removed]",
      "text/plain": [
       "<matplotlib.figure.Figure at 0x7f5e7feffc18>"
      ]
     },
     "metadata": {},
     "output_type": "display_data"
    }
   ],
   "source": [
    "sinplot(2)\n",
    "sinplot(4.4)\n",
    "sinplot(0.2)\n",
    "sinplot()"
   ]
  },
  {
   "cell_type": "markdown",
   "metadata": {},
   "source": [
    "However, in this way it is often difficult to get a feeling for what is going on. What is really the effect of changing the value of $k$? Let us use the interact function:"
   ]
  },
  {
   "cell_type": "code",
   "execution_count": 32,
   "metadata": {
    "collapsed": true
   },
   "outputs": [],
   "source": [
    "from ipywidgets import interact"
   ]
  },
  {
   "cell_type": "markdown",
   "metadata": {},
   "source": [
    "With two lines of code, we have gained the ability to directly interact with the parameter $k$ through a slider! Note that the syntax `k=(0.0,10.0)` means that the slider can be changed from 0 to 10. If we give a third parameter, we can specify the step size, by which the slider can change a value. \n",
    "\n",
    "The usual way to use `interact` is by adding it immediately when we define the function as follows:"
   ]
  },
  {
   "cell_type": "code",
   "execution_count": 33,
   "metadata": {},
   "outputs": [
    {
     "data": {
      "application/vnd.jupyter.widget-view+json": {
       "model_id": "c96b00eb183d43058c1a0c44eeffbb2b"
      }
     },
     "metadata": {},
     "output_type": "display_data"
    }
   ],
   "source": [
    "@interact(k=(0.0,10.0))\n",
    "def sinplot(k=3):\n",
    "    myx = np.linspace(0.0,20.0,500)\n",
    "    plt.xlim(0,20.0)\n",
    "    plt.ylim(-1.5,1.5)\n",
    "    plt.xlabel(\"$x$\")\n",
    "    plt.ylabel(\"$sin(k x)$\")\n",
    "    plt.plot(myx, np.sin(k * myx) )\n",
    "    plt.show()\n",
    "\n"
   ]
  },
  {
   "cell_type": "markdown",
   "metadata": {},
   "source": [
    "Note the special syntax with the `@` sign, which in Python is called a `decorator`.  With this syntax you essentially take the function definition in the following line and feed it into the interact function."
   ]
  },
  {
   "cell_type": "markdown",
   "metadata": {},
   "source": [
    " \n",
    "We can also change more than one variable with a slider, for instance:"
   ]
  },
  {
   "cell_type": "code",
   "execution_count": 34,
   "metadata": {},
   "outputs": [
    {
     "data": {
      "application/vnd.jupyter.widget-view+json": {
       "model_id": "d1fbe3421182456bb7ee810f21a70be7"
      }
     },
     "metadata": {},
     "output_type": "display_data"
    }
   ],
   "source": [
    "@interact( k=(0.0,10.0),m=(-3.0,3.0,0.01), c=(-2.0,2.0,0.05))  \n",
    "def sinplotlinearfit(k=3.0, m=1.0, c=0.0):\n",
    "    myx = np.linspace(0.0,20.0,500)\n",
    "    plt.xlim(0,20.0)\n",
    "    plt.ylim(-1.5,1.5)\n",
    "    plt.xlabel(\"$x$\")\n",
    "    plt.plot(myx, np.sin(k * myx) )\n",
    "    plt.plot(myx, m * myx + c )\n",
    "    plt.show()\n",
    "    \n"
   ]
  },
  {
   "cell_type": "markdown",
   "metadata": {},
   "source": [
    "Note that the different slider have different accuracy and limits. "
   ]
  },
  {
   "cell_type": "markdown",
   "metadata": {},
   "source": [
    "Of course, this does not only work for plotting functions, but also for any other function. For example let us spice up our fibonacci functions a bit:"
   ]
  },
  {
   "cell_type": "code",
   "execution_count": 35,
   "metadata": {},
   "outputs": [
    {
     "data": {
      "application/vnd.jupyter.widget-view+json": {
       "model_id": "30754df45a164559b2f0743e0d28a0dd"
      }
     },
     "metadata": {},
     "output_type": "display_data"
    }
   ],
   "source": [
    "@interact(n=(1,50),a=(-10.0,10.0), b=(-10.0,10.0))\n",
    "def fibprintnew(n, a=0, b=1):\n",
    "    fiblist = [a, b]\n",
    "    while len(fiblist) < n:\n",
    "        fiblist.append( fiblist[-1] + fiblist[-2])\n",
    "    print(fiblist)"
   ]
  },
  {
   "cell_type": "code",
   "execution_count": null,
   "metadata": {
    "collapsed": true
   },
   "outputs": [],
   "source": []
  }
 ],
 "metadata": {
  "kernelspec": {
   "display_name": "Python 3",
   "language": "python",
   "name": "python3"
  },
  "language_info": {
   "codemirror_mode": {
    "name": "ipython",
    "version": 3
   },
   "file_extension": ".py",
   "mimetype": "text/x-python",
   "name": "python",
   "nbconvert_exporter": "python",
   "pygments_lexer": "ipython3",
   "version": "3.7.0"
  }
 },
 "nbformat": 4,
 "nbformat_minor": 1
}
