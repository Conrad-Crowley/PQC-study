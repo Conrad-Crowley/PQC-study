{
 "cells": [
  {
   "cell_type": "markdown",
   "metadata": {},
   "source": [
    "# <p style=\"text-align:center;\">OLLSCOIL NA hÉIREANN, CORCAIGH</p> *<p style=\"text-align:center;\">THE NATIONAL UNIVERSITY OF IRELAND, CORK</p>*  <p style=\"text-align:center;\">COLÁISTE NA hOLLSCOILE, CORCAIGH</p> *<p style=\"text-align:center;\">UNIVERSITY COLLEGE, CORK</p>*"
   ]
  },
  {
   "cell_type": "markdown",
   "metadata": {},
   "source": [
    "\n",
    "\n",
    "| | |\n",
    "|:---|:---|\n",
    "|Examination Session and Year|Winter 2017|\n",
    "|Module Code|AM1054|\n",
    "|Module Title|Mathematical Software|\n",
    "|Paper Number|1|\n",
    "|External Examiner|Prof. C. Budd|\n",
    "|The Head of the Department|Prof. S. Wieczorek|\n",
    "|Internal Examiners|Dr. A. Amann|\n",
    "|Instructions to Candidates|Full marks for complete answers to three questions\n",
    "|Duration of Paper|1.5 hours|\n",
    "|Special Requirements|Reading time of fifteen minutes is permitted prior to the commencement of this examination.|\n",
    "\n"
   ]
  },
  {
   "cell_type": "code",
   "execution_count": null,
   "metadata": {},
   "outputs": [],
   "source": [
    "# execute this cell before you start the examination\n",
    "%matplotlib inline\n",
    "import numpy as np\n",
    "import matplotlib.pyplot as plt\n",
    "import sympy as sym\n",
    "\n",
    "sym.init_printing(use_latex=\"mathjax\")\n",
    "x, y, z, t = sym.symbols('x y z t')\n",
    "\n",
    "from ipywidgets.widgets import interact"
   ]
  },
  {
   "cell_type": "markdown",
   "metadata": {},
   "source": [
    "# Please write your Examnumber in the field below"
   ]
  },
  {
   "cell_type": "markdown",
   "metadata": {
    "deletable": false,
    "nbgrader": {
     "checksum": "822905c158fd0e6a15e2f4d77cb6ea2f",
     "grade": true,
     "grade_id": "cell-08eab8a442e1db0b",
     "locked": false,
     "points": 0,
     "schema_version": 1,
     "solution": true
    }
   },
   "source": [
    "YOUR ANSWER HERE"
   ]
  },
  {
   "cell_type": "markdown",
   "metadata": {},
   "source": [
    "# 1. Presentation Skills"
   ]
  },
  {
   "cell_type": "markdown",
   "metadata": {},
   "source": [
    "a) Typeset the following formula using Markdown / LaTeX. (6 points) \n",
    "\n",
    "<img src=\"fig1.png\" width=\"700\" />"
   ]
  },
  {
   "cell_type": "markdown",
   "metadata": {
    "deletable": false,
    "nbgrader": {
     "checksum": "a6ee00d2029df63cf4fd20f3e52f56e5",
     "grade": true,
     "grade_id": "1a",
     "locked": false,
     "points": 6,
     "schema_version": 1,
     "solution": true
    }
   },
   "source": [
    "YOUR ANSWER HERE"
   ]
  },
  {
   "cell_type": "markdown",
   "metadata": {},
   "source": [
    "b) Typeset the following formula using Markdown / LaTeX. (6 points)"
   ]
  },
  {
   "cell_type": "markdown",
   "metadata": {},
   "source": [
    "<img src=\"fig2.png\" width=\"600\" />"
   ]
  },
  {
   "cell_type": "markdown",
   "metadata": {
    "deletable": false,
    "nbgrader": {
     "checksum": "02359cdcc188b6ee34318814f6053f4e",
     "grade": true,
     "grade_id": "1b",
     "locked": false,
     "points": 6,
     "schema_version": 1,
     "solution": true
    }
   },
   "source": [
    "YOUR ANSWER HERE"
   ]
  },
  {
   "cell_type": "markdown",
   "metadata": {},
   "source": [
    "c) The file \"dat.csv\" contains three columns of data.  Do the following with this data:\n",
    "\n",
    "i) Generate a new file \"dat_new.csv\" with two columns: The first column is identical with the first column of \"dat.csv\" and the second column is the product of the last two columns of \"dat.csv\". (6 points)"
   ]
  },
  {
   "cell_type": "code",
   "execution_count": null,
   "metadata": {
    "deletable": false,
    "nbgrader": {
     "checksum": "63b4022c58422b49e3a51f0ce3154e24",
     "grade": true,
     "grade_id": "1ci",
     "locked": false,
     "points": 6,
     "schema_version": 1,
     "solution": true
    }
   },
   "outputs": [],
   "source": [
    "# YOUR CODE HERE\n",
    "raise NotImplementedError()"
   ]
  },
  {
   "cell_type": "markdown",
   "metadata": {},
   "source": [
    "ii) Use Python to count the number of rows in `dat.csv`, where the abolute value of the last column is larger than the absolute value in the second column. (3 points)"
   ]
  },
  {
   "cell_type": "code",
   "execution_count": null,
   "metadata": {
    "deletable": false,
    "nbgrader": {
     "checksum": "05e0cf8043cc2dff5d48525fe6c96582",
     "grade": true,
     "grade_id": "1cii",
     "locked": false,
     "points": 3,
     "schema_version": 1,
     "solution": true
    }
   },
   "outputs": [],
   "source": [
    "# YOUR CODE HERE\n",
    "raise NotImplementedError()"
   ]
  },
  {
   "cell_type": "markdown",
   "metadata": {},
   "source": [
    "iii) Use one line of code to print rows number 5, 8 and 11 of `dat.csv`.  (3 points)"
   ]
  },
  {
   "cell_type": "code",
   "execution_count": null,
   "metadata": {
    "deletable": false,
    "nbgrader": {
     "checksum": "2289e7e474b228a8b1d3c09d97ab8c21",
     "grade": true,
     "grade_id": "1ciii",
     "locked": false,
     "points": 3,
     "schema_version": 1,
     "solution": true
    }
   },
   "outputs": [],
   "source": [
    "# YOUR CODE HERE\n",
    "raise NotImplementedError()"
   ]
  },
  {
   "cell_type": "markdown",
   "metadata": {},
   "source": [
    "iv) Use one line of code to print the first 5 rows of `dat.csv` in reverse order.  (3 points)"
   ]
  },
  {
   "cell_type": "code",
   "execution_count": null,
   "metadata": {
    "deletable": false,
    "nbgrader": {
     "checksum": "d91b276c5a6e3a673f422b79d03c8a54",
     "grade": true,
     "grade_id": "1civ",
     "locked": false,
     "points": 3,
     "schema_version": 1,
     "solution": true
    }
   },
   "outputs": [],
   "source": [
    "# YOUR CODE HERE\n",
    "raise NotImplementedError()"
   ]
  },
  {
   "cell_type": "markdown",
   "metadata": {},
   "source": [
    "# 2. Approximate $\\pi$"
   ]
  },
  {
   "cell_type": "markdown",
   "metadata": {},
   "source": [
    "Consider the following formula for $\\pi$: \n",
    "\n",
    "\\begin{align}\n",
    "S_n &=\\sum_{k=0}^n\\frac{2(-1)^k3^{(1/2-k)}}{2k+1} \\\\\n",
    "\\pi &= \\lim_{n\\to\\infty} S_n\n",
    "\\end{align}\n",
    "\n",
    "a) Write a function `S(n)` which implements $S_n$ in python by starting the summation at $k=0$. (7 points)"
   ]
  },
  {
   "cell_type": "code",
   "execution_count": null,
   "metadata": {
    "deletable": false,
    "nbgrader": {
     "checksum": "f38c9b60cc73206ebccd53acef018cda",
     "grade": true,
     "grade_id": "2a",
     "locked": false,
     "points": 7,
     "schema_version": 1,
     "solution": true
    }
   },
   "outputs": [],
   "source": [
    "# YOUR CODE HERE\n",
    "raise NotImplementedError()"
   ]
  },
  {
   "cell_type": "markdown",
   "metadata": {},
   "source": [
    "b) Calculate $S_0$, $S_1$ and $S_{10}$ explicitly. (2 points)"
   ]
  },
  {
   "cell_type": "code",
   "execution_count": null,
   "metadata": {
    "deletable": false,
    "nbgrader": {
     "checksum": "a5d66210c424e1749c9890561efb67c9",
     "grade": true,
     "grade_id": "2b",
     "locked": false,
     "points": 2,
     "schema_version": 1,
     "solution": true
    }
   },
   "outputs": [],
   "source": [
    "# YOUR CODE HERE\n",
    "raise NotImplementedError()"
   ]
  },
  {
   "cell_type": "markdown",
   "metadata": {},
   "source": [
    "c) How well do $S_{13}$ and $S_{26}$ approximate $\\pi$? Calculate the absolute error and  the relative error for both cases and compare. (3 points)"
   ]
  },
  {
   "cell_type": "code",
   "execution_count": null,
   "metadata": {
    "deletable": false,
    "nbgrader": {
     "checksum": "bf4c4e961911994c62ff06f0b7bbb241",
     "grade": true,
     "grade_id": "2c",
     "locked": false,
     "points": 3,
     "schema_version": 1,
     "solution": true
    }
   },
   "outputs": [],
   "source": [
    "# YOUR CODE HERE\n",
    "raise NotImplementedError()"
   ]
  },
  {
   "cell_type": "markdown",
   "metadata": {},
   "source": [
    "d) Plot the relative error $\\epsilon_{\\mathrm{rel}}$ versus $n$ in a diagram with linear scale for $n$ and logarithmic scale for the error. Plot for $n=5,7,10,13,17,20,26,30,40, 50$ using red dots. (6 points)"
   ]
  },
  {
   "cell_type": "code",
   "execution_count": null,
   "metadata": {
    "deletable": false,
    "nbgrader": {
     "checksum": "fc625c6324a4d327f58fd872dbaacca1",
     "grade": true,
     "grade_id": "2d",
     "locked": false,
     "points": 6,
     "schema_version": 1,
     "solution": true
    }
   },
   "outputs": [],
   "source": [
    "# YOUR CODE HERE\n",
    "raise NotImplementedError()"
   ]
  },
  {
   "cell_type": "markdown",
   "metadata": {},
   "source": [
    "e) Based on the plot from part (d), how does the relative error behave at large $n$? (3 points)"
   ]
  },
  {
   "cell_type": "markdown",
   "metadata": {
    "deletable": false,
    "nbgrader": {
     "checksum": "ce9cdcb9797fe695df604880bc75a560",
     "grade": true,
     "grade_id": "2e",
     "locked": false,
     "points": 3,
     "schema_version": 1,
     "solution": true
    }
   },
   "source": [
    "YOUR ANSWER HERE"
   ]
  },
  {
   "cell_type": "markdown",
   "metadata": {},
   "source": [
    "f) Write a new function `Sb(n)`, which calculates the sum $S_n$ by starting from $k=n$ and then decreasing $k$ until $k=0$. (3 points)"
   ]
  },
  {
   "cell_type": "code",
   "execution_count": null,
   "metadata": {
    "deletable": false,
    "nbgrader": {
     "checksum": "827bd7e009b64a4ac8462df96ece58d7",
     "grade": true,
     "grade_id": "2f",
     "locked": false,
     "points": 3,
     "schema_version": 1,
     "solution": true
    }
   },
   "outputs": [],
   "source": [
    "# YOUR CODE HERE\n",
    "raise NotImplementedError()"
   ]
  },
  {
   "cell_type": "markdown",
   "metadata": {},
   "source": [
    "g) Compare the absolute error of `Sb(30)` with the absolute error of `S(30)`.  How do you explain the difference between these two errors? (3 points)"
   ]
  },
  {
   "cell_type": "code",
   "execution_count": null,
   "metadata": {
    "deletable": false,
    "nbgrader": {
     "checksum": "2634a59c250f70f66cab6a02f5156f22",
     "grade": true,
     "grade_id": "2g",
     "locked": false,
     "points": 3,
     "schema_version": 1,
     "solution": true
    }
   },
   "outputs": [],
   "source": [
    "# YOUR CODE HERE\n",
    "raise NotImplementedError()"
   ]
  },
  {
   "cell_type": "markdown",
   "metadata": {},
   "source": [
    "# 3. Symbolic computations\n",
    "\n",
    "Use `Python` and the `sympy` library to answer questions below. \n",
    "\n",
    "If you have used `x`, `y`, `z`, or `t` in other parts of the exam, you can run the following cell to reinitialize them for symbolic computation."
   ]
  },
  {
   "cell_type": "code",
   "execution_count": null,
   "metadata": {},
   "outputs": [],
   "source": [
    "x, y, z, t = sym.symbols('x y z t')"
   ]
  },
  {
   "cell_type": "markdown",
   "metadata": {},
   "source": [
    "a) Consider the function\n",
    "\\begin{equation}\n",
    "f(x) = \\frac{\\sqrt{\\sin{\\left (x^{3} \\right )}} + 7}{\\cos{\\left (x^{2} \\right )} + \\tan{\\left (x \\right )}}.\n",
    "\\end{equation}\n",
    "Plot $f(x)$, $\\frac{d}{dx} f(x)$ and $\\frac{d^2}{dx^2} f(x)$ in the same plot for $x\\in[0,\\pi/3]$. Add an appropriate legend box to the plot. (8 points)"
   ]
  },
  {
   "cell_type": "code",
   "execution_count": null,
   "metadata": {
    "deletable": false,
    "nbgrader": {
     "checksum": "0a4fa18217ba16f9f7216ee2b91049d1",
     "grade": true,
     "grade_id": "cell-a080f8575e736cf7",
     "locked": false,
     "points": 8,
     "schema_version": 1,
     "solution": true
    }
   },
   "outputs": [],
   "source": [
    "# YOUR CODE HERE\n",
    "raise NotImplementedError()"
   ]
  },
  {
   "cell_type": "markdown",
   "metadata": {},
   "source": [
    "b) Show that \n",
    "\\begin{equation}\n",
    "\\int_{0}^{\\frac{\\pi}{4}} \\frac{x}{\\cos^{2}{\\left (x \\right )}}\\, dx = - \\frac{1}{2} \\ln{\\left (2 \\right )} + \\frac{\\pi}{4}\n",
    "\\end{equation} (5 points)"
   ]
  },
  {
   "cell_type": "code",
   "execution_count": null,
   "metadata": {
    "deletable": false,
    "nbgrader": {
     "checksum": "668a9d3c496cbc4eb3b4efbf9c596c44",
     "grade": true,
     "grade_id": "cell-867adcdf476c03ac",
     "locked": false,
     "points": 5,
     "schema_version": 1,
     "solution": true
    }
   },
   "outputs": [],
   "source": [
    "# YOUR CODE HERE\n",
    "raise NotImplementedError()"
   ]
  },
  {
   "cell_type": "markdown",
   "metadata": {},
   "source": [
    "c) Taylor expand the function \n",
    "\\begin{equation}\n",
    "f(x,t) = \\frac{x e^{t x}}{e^{x} - 1}\n",
    "\\end{equation}\n",
    "in $x$ at $x=0$ up to fifth order. (5 points) "
   ]
  },
  {
   "cell_type": "code",
   "execution_count": null,
   "metadata": {
    "deletable": false,
    "nbgrader": {
     "checksum": "62aaf1ee9b6e91eed408b8c37df08eef",
     "grade": true,
     "grade_id": "cell-3db3d53d899cb75f",
     "locked": false,
     "points": 5,
     "schema_version": 1,
     "solution": true
    }
   },
   "outputs": [],
   "source": [
    "# YOUR CODE HERE\n",
    "raise NotImplementedError()"
   ]
  },
  {
   "cell_type": "markdown",
   "metadata": {},
   "source": [
    "d) The Laguerre polynomials $(L_0(x),L_1(x),\\ldots)$ are defined via \n",
    "\\begin{align}\n",
    " L_0(x) &= 1,\\\\\n",
    " L_{n+1}(x) &= L_{n}(x) - \\int_0^x  L_n(y)dy.\n",
    "\\end{align}\n",
    "Calculate $L_7(x)$. (9 points)"
   ]
  },
  {
   "cell_type": "code",
   "execution_count": null,
   "metadata": {
    "deletable": false,
    "nbgrader": {
     "checksum": "782bdf4c234f63ef339fe148b233c111",
     "grade": true,
     "grade_id": "3c",
     "locked": false,
     "points": 9,
     "schema_version": 1,
     "solution": true
    }
   },
   "outputs": [],
   "source": [
    "# YOUR CODE HERE\n",
    "raise NotImplementedError()"
   ]
  },
  {
   "cell_type": "markdown",
   "metadata": {},
   "source": [
    "# 4. The Henon Sequence"
   ]
  },
  {
   "cell_type": "markdown",
   "metadata": {},
   "source": [
    "Consider the Henon sequence \n",
    "\n",
    "\\begin{equation}\n",
    "((x_0,y_0), (x_1,y_1), (x_2,y_2),\\ldots),\n",
    "\\end{equation}\n",
    "which consists of pairs of numbers, and is iteratively defined as follows:\n",
    "\n",
    "\\begin{align}\n",
    "x_0 &= 0\\\\\n",
    "y_0 &= 0\\\\\n",
    "x_{{n+1}}&=1-ax_{n}^{2}+y_{n}\n",
    "\\\\y_{{n+1}}&=bx_{n}.\n",
    "\\end{align}\n",
    "$a$ and $b$ are positive parameters.\n",
    "\n",
    "a) Write a Python function `henon_sequence(N, a=1.4, b=0.3)` which returns a list of the first $N$ pairs of the Henon sequence for the classical parameters $a=1.4$ and $b=0.3$. Calculate `henon_sequence(10)`. (7 points)"
   ]
  },
  {
   "cell_type": "code",
   "execution_count": null,
   "metadata": {
    "deletable": false,
    "nbgrader": {
     "checksum": "ce7cbe5c165932c5123fc8ebe7ae4882",
     "grade": true,
     "grade_id": "4a",
     "locked": false,
     "points": 7,
     "schema_version": 1,
     "solution": true
    }
   },
   "outputs": [],
   "source": [
    "# YOUR CODE HERE\n",
    "raise NotImplementedError()"
   ]
  },
  {
   "cell_type": "markdown",
   "metadata": {},
   "source": [
    "b) Plot the first 1000 pairs of the Henon sequence as red dots in an $x$-$y$ diagram. (6 points)"
   ]
  },
  {
   "cell_type": "code",
   "execution_count": null,
   "metadata": {
    "deletable": false,
    "nbgrader": {
     "checksum": "f1aaa458b8183158acfbcd008be00ea0",
     "grade": true,
     "grade_id": "cell-3b7f24ec0699c517",
     "locked": false,
     "points": 6,
     "schema_version": 1,
     "solution": true
    }
   },
   "outputs": [],
   "source": [
    "# YOUR CODE HERE\n",
    "raise NotImplementedError()"
   ]
  },
  {
   "cell_type": "markdown",
   "metadata": {},
   "source": [
    "c) Redo the last plot, and highlight the pair with the largest distance from the origin with a green square. (7 points)"
   ]
  },
  {
   "cell_type": "code",
   "execution_count": null,
   "metadata": {
    "deletable": false,
    "nbgrader": {
     "checksum": "04ee38e34443373169b7da0c61576574",
     "grade": true,
     "grade_id": "cell-e02b94ee655b0586",
     "locked": false,
     "points": 7,
     "schema_version": 1,
     "solution": true
    }
   },
   "outputs": [],
   "source": [
    "# YOUR CODE HERE\n",
    "raise NotImplementedError()"
   ]
  },
  {
   "cell_type": "markdown",
   "metadata": {},
   "source": [
    "d) Redo the last plot and add two sliders, which allow you to change `a` in the interval from 0 to 1.4 in steps of 0.02 and `b` from 0 to 0.3 in steps of 0.01. (7 points)"
   ]
  },
  {
   "cell_type": "code",
   "execution_count": null,
   "metadata": {
    "deletable": false,
    "nbgrader": {
     "checksum": "88b333ae0a003c08583a31036400a8fd",
     "grade": true,
     "grade_id": "cell-6fd479b5bb2383ca",
     "locked": false,
     "points": 7,
     "schema_version": 1,
     "solution": true
    }
   },
   "outputs": [],
   "source": [
    "# YOUR CODE HERE\n",
    "raise NotImplementedError()"
   ]
  },
  {
   "cell_type": "code",
   "execution_count": null,
   "metadata": {},
   "outputs": [],
   "source": []
  }
 ],
 "metadata": {
  "kernelspec": {
   "display_name": "Python 3",
   "language": "python",
   "name": "python3"
  },
  "language_info": {
   "codemirror_mode": {
    "name": "ipython",
    "version": 3
   },
   "file_extension": ".py",
   "mimetype": "text/x-python",
   "name": "python",
   "nbconvert_exporter": "python",
   "pygments_lexer": "ipython3",
   "version": "3.7.1"
  },
  "toc": {
   "nav_menu": {},
   "number_sections": false,
   "sideBar": true,
   "skip_h1_title": false,
   "title_cell": "Table of Contents",
   "title_sidebar": "Contents",
   "toc_cell": false,
   "toc_position": {},
   "toc_section_display": true,
   "toc_window_display": true
  },
  "varInspector": {
   "cols": {
    "lenName": 16,
    "lenType": 16,
    "lenVar": 40
   },
   "kernels_config": {
    "python": {
     "delete_cmd_postfix": "",
     "delete_cmd_prefix": "del ",
     "library": "var_list.py",
     "varRefreshCmd": "print(var_dic_list())"
    },
    "r": {
     "delete_cmd_postfix": ") ",
     "delete_cmd_prefix": "rm(",
     "library": "var_list.r",
     "varRefreshCmd": "cat(var_dic_list()) "
    }
   },
   "types_to_exclude": [
    "module",
    "function",
    "builtin_function_or_method",
    "instance",
    "_Feature"
   ],
   "window_display": false
  }
 },
 "nbformat": 4,
 "nbformat_minor": 1
}
