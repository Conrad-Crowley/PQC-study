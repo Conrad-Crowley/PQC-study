{
 "cells": [
  {
   "cell_type": "markdown",
   "metadata": {},
   "source": [
    "# Think before you execute"
   ]
  },
  {
   "cell_type": "markdown",
   "metadata": {},
   "source": [
    "Try to figure out, what the following code snippets do, without executing them! Write down your answer. Then check your answer by executing the code. \n",
    "\n",
    "1. <!-- -->\n",
    "    \n",
    "        a = \"2.0\"\n",
    "        a = a + str(5)\n",
    "        print(2*float(a))\n"
   ]
  },
  {
   "cell_type": "code",
   "execution_count": null,
   "metadata": {
    "deletable": false,
    "nbgrader": {
     "checksum": "1a00257063237bf7b7c065ea465fb785",
     "grade": true,
     "grade_id": "cell-be0729256cf95269",
     "locked": false,
     "points": 0,
     "schema_version": 1,
     "solution": true
    }
   },
   "outputs": [],
   "source": [
    "# YOUR CODE HERE\n",
    "raise NotImplementedError()"
   ]
  },
  {
   "cell_type": "markdown",
   "metadata": {},
   "source": [
    "2. <!-- -->\n",
    "\n",
    "        print(-2 ** -2)\n",
    "        print( (-2) ** -2)"
   ]
  },
  {
   "cell_type": "code",
   "execution_count": null,
   "metadata": {
    "deletable": false,
    "nbgrader": {
     "checksum": "a26d058802d2d2d9ce2ca93453e749c6",
     "grade": true,
     "grade_id": "cell-3c9c4089fb7764ba",
     "locked": false,
     "points": 0,
     "schema_version": 1,
     "solution": true
    }
   },
   "outputs": [],
   "source": [
    "# YOUR CODE HERE\n",
    "raise NotImplementedError()"
   ]
  },
  {
   "cell_type": "markdown",
   "metadata": {},
   "source": [
    "3. <!-- -->\n",
    "\n",
    "        print(7 ** 0)\n",
    "        print(0 ** 0.001)\n",
    "        print(0 ** 0.00)\n"
   ]
  },
  {
   "cell_type": "code",
   "execution_count": null,
   "metadata": {
    "deletable": false,
    "nbgrader": {
     "checksum": "bb9d426580debc5556e958e864616776",
     "grade": true,
     "grade_id": "cell-76c828d44c157d7b",
     "locked": false,
     "points": 0,
     "schema_version": 1,
     "solution": true
    }
   },
   "outputs": [],
   "source": [
    "# YOUR CODE HERE\n",
    "raise NotImplementedError()"
   ]
  },
  {
   "cell_type": "markdown",
   "metadata": {},
   "source": [
    "4. <!-- -->\n",
    "\n",
    "        b = []\n",
    "        print(len(b))\n",
    "        print(b[0])"
   ]
  },
  {
   "cell_type": "code",
   "execution_count": null,
   "metadata": {
    "deletable": false,
    "nbgrader": {
     "checksum": "78227431b9ce64cd10534263128ea3e1",
     "grade": true,
     "grade_id": "cell-860941000c2e7fd9",
     "locked": false,
     "points": 0,
     "schema_version": 1,
     "solution": true
    }
   },
   "outputs": [],
   "source": [
    "# YOUR CODE HERE\n",
    "raise NotImplementedError()"
   ]
  },
  {
   "cell_type": "markdown",
   "metadata": {},
   "source": [
    "5. <!-- -->\n",
    "\n",
    "        c = [3,1]\n",
    "        c.append(2)\n",
    "        print(c[-2])"
   ]
  },
  {
   "cell_type": "code",
   "execution_count": null,
   "metadata": {
    "deletable": false,
    "nbgrader": {
     "checksum": "3c24295e3a2b485ba552531428be3570",
     "grade": true,
     "grade_id": "cell-d0ce3004662bedfb",
     "locked": false,
     "points": 0,
     "schema_version": 1,
     "solution": true
    }
   },
   "outputs": [],
   "source": [
    "# YOUR CODE HERE\n",
    "raise NotImplementedError()"
   ]
  },
  {
   "cell_type": "markdown",
   "metadata": {},
   "source": [
    "6. <!-- -->\n",
    "\n",
    "        a = 20\n",
    "        while a >= 10:\n",
    "            a = a-2\n",
    "            print(a)\n"
   ]
  },
  {
   "cell_type": "code",
   "execution_count": null,
   "metadata": {
    "deletable": false,
    "nbgrader": {
     "checksum": "14d87bf31480da313aeaad4e59552948",
     "grade": true,
     "grade_id": "cell-8771237fdee29144",
     "locked": false,
     "points": 0,
     "schema_version": 1,
     "solution": true
    }
   },
   "outputs": [],
   "source": [
    "# YOUR CODE HERE\n",
    "raise NotImplementedError()"
   ]
  },
  {
   "cell_type": "markdown",
   "metadata": {},
   "source": [
    "7. <!-- -->\n",
    "\n",
    "        mylist = [1]\n",
    "        while mylist[-1] < 100:\n",
    "            mylist.append( (mylist[-1]+1)**2 )\n",
    "        print(mylist)"
   ]
  },
  {
   "cell_type": "code",
   "execution_count": null,
   "metadata": {
    "deletable": false,
    "nbgrader": {
     "checksum": "7947e69ef1304b15533fd2fb7659bcc5",
     "grade": true,
     "grade_id": "cell-718cf4d2b371dfd9",
     "locked": false,
     "points": 0,
     "schema_version": 1,
     "solution": true
    }
   },
   "outputs": [],
   "source": [
    "# YOUR CODE HERE\n",
    "raise NotImplementedError()"
   ]
  },
  {
   "cell_type": "markdown",
   "metadata": {},
   "source": [
    "# Guess before you execute"
   ]
  },
  {
   "cell_type": "markdown",
   "metadata": {},
   "source": [
    "Can you *guess* what the following snippets are doing? Check by executing. \n",
    "\n",
    "1. <!-- -->\n",
    "\n",
    "        list1 = [2,9]\n",
    "        list2 = [3,7]\n",
    "        list3 = list1 + list2\n",
    "        print(list3)\n"
   ]
  },
  {
   "cell_type": "code",
   "execution_count": null,
   "metadata": {
    "deletable": false,
    "nbgrader": {
     "checksum": "f8229adf441b159d515c8191d6c27d86",
     "grade": true,
     "grade_id": "cell-989bdd49836a04c7",
     "locked": false,
     "points": 0,
     "schema_version": 1,
     "solution": true
    }
   },
   "outputs": [],
   "source": [
    "# YOUR CODE HERE\n",
    "raise NotImplementedError()"
   ]
  },
  {
   "cell_type": "markdown",
   "metadata": {},
   "source": [
    "2. <!-- -->\n",
    "\n",
    "        print(\"ABC\" * 5)\n"
   ]
  },
  {
   "cell_type": "code",
   "execution_count": null,
   "metadata": {
    "deletable": false,
    "nbgrader": {
     "checksum": "a5afd1219fa20354059c6474adaafa44",
     "grade": true,
     "grade_id": "cell-a9e7929b3c34bc56",
     "locked": false,
     "points": 0,
     "schema_version": 1,
     "solution": true
    }
   },
   "outputs": [],
   "source": [
    "# YOUR CODE HERE\n",
    "raise NotImplementedError()"
   ]
  },
  {
   "cell_type": "markdown",
   "metadata": {},
   "source": [
    "3. <!-- -->\n",
    "\n",
    "        print(\"0.2\" * 5)\n"
   ]
  },
  {
   "cell_type": "code",
   "execution_count": null,
   "metadata": {
    "deletable": false,
    "nbgrader": {
     "checksum": "dd4b3317315750d4f555264b00989cbb",
     "grade": true,
     "grade_id": "cell-39906673e9e2286b",
     "locked": false,
     "points": 0,
     "schema_version": 1,
     "solution": true
    }
   },
   "outputs": [],
   "source": [
    "# YOUR CODE HERE\n",
    "raise NotImplementedError()"
   ]
  },
  {
   "cell_type": "markdown",
   "metadata": {},
   "source": [
    "4. <!-- -->\n",
    "\n",
    "        print(18 % 7)\n"
   ]
  },
  {
   "cell_type": "code",
   "execution_count": null,
   "metadata": {
    "deletable": false,
    "nbgrader": {
     "checksum": "2f9afeaa9cf63773f7345602075f28bf",
     "grade": true,
     "grade_id": "cell-a73f09cf00df4aa9",
     "locked": false,
     "points": 0,
     "schema_version": 1,
     "solution": true
    }
   },
   "outputs": [],
   "source": [
    "# YOUR CODE HERE\n",
    "raise NotImplementedError()"
   ]
  },
  {
   "cell_type": "markdown",
   "metadata": {},
   "source": [
    "5. <!-- -->\n",
    "\n",
    "        print(round(16.6))\n"
   ]
  },
  {
   "cell_type": "code",
   "execution_count": null,
   "metadata": {
    "deletable": false,
    "nbgrader": {
     "checksum": "61052b2c3d73ebe92ab2c29dff5ba999",
     "grade": true,
     "grade_id": "cell-caa8a9ef0de7442b",
     "locked": false,
     "points": 0,
     "schema_version": 1,
     "solution": true
    }
   },
   "outputs": [],
   "source": [
    "# YOUR CODE HERE\n",
    "raise NotImplementedError()"
   ]
  },
  {
   "cell_type": "markdown",
   "metadata": {},
   "source": [
    "6. <!-- -->\n",
    "\n",
    "        print( abs(-3) )\n"
   ]
  },
  {
   "cell_type": "code",
   "execution_count": null,
   "metadata": {
    "deletable": false,
    "nbgrader": {
     "checksum": "070ff78c32fd7dcba1513d7e028dea51",
     "grade": true,
     "grade_id": "cell-2c80c08331b2f2ae",
     "locked": false,
     "points": 0,
     "schema_version": 1,
     "solution": true
    }
   },
   "outputs": [],
   "source": [
    "# YOUR CODE HERE\n",
    "raise NotImplementedError()"
   ]
  },
  {
   "cell_type": "markdown",
   "metadata": {},
   "source": [
    "7. <!-- -->\n",
    "\n",
    "        mylist = [7,2,-3,18,2]\n",
    "        print(min(mylist))\n",
    "        print(max(mylist))\n",
    "        print( sorted(mylist) )\n",
    "        "
   ]
  },
  {
   "cell_type": "code",
   "execution_count": null,
   "metadata": {
    "deletable": false,
    "nbgrader": {
     "checksum": "158f31e1ed111e15d54443e66f912361",
     "grade": true,
     "grade_id": "cell-6992b82f5474c580",
     "locked": false,
     "points": 0,
     "schema_version": 1,
     "solution": true
    }
   },
   "outputs": [],
   "source": [
    "# YOUR CODE HERE\n",
    "raise NotImplementedError()"
   ]
  },
  {
   "cell_type": "markdown",
   "metadata": {},
   "source": [
    "# Perrin Numbers"
   ]
  },
  {
   "cell_type": "markdown",
   "metadata": {},
   "source": [
    "The [Perrin numbers](https://en.wikipedia.org/wiki/Perrin_number) are defined via the recurrence relation $$P(0) = 3,\\quad P(1) = 0,\\quad P(2) = 2$$ and $$P(n) = P(n − 2) + P(n − 3)\\quad \\text{ for }\\quad n > 2.$$ Calculate the first 20 Perrin numbers."
   ]
  },
  {
   "cell_type": "code",
   "execution_count": null,
   "metadata": {
    "deletable": false,
    "nbgrader": {
     "checksum": "df8dc325820bc49974c3448ee944c91e",
     "grade": true,
     "grade_id": "cell-f525f6e3bfa1113d",
     "locked": false,
     "points": 0,
     "schema_version": 1,
     "solution": true
    }
   },
   "outputs": [],
   "source": [
    "# YOUR CODE HERE\n",
    "raise NotImplementedError()"
   ]
  }
 ],
 "metadata": {
  "kernelspec": {
   "display_name": "Python 3",
   "language": "python",
   "name": "python3"
  },
  "language_info": {
   "codemirror_mode": {
    "name": "ipython",
    "version": 3
   },
   "file_extension": ".py",
   "mimetype": "text/x-python",
   "name": "python",
   "nbconvert_exporter": "python",
   "pygments_lexer": "ipython3",
   "version": "3.7.0"
  }
 },
 "nbformat": 4,
 "nbformat_minor": 1
}
