{
 "cells": [
  {
   "cell_type": "markdown",
   "metadata": {},
   "source": [
    "## Q1. Continuous Fractions and the Euclidean algorithm\n",
    "\n",
    "Continuous fractions and the related Euclidean algorithm have a long tradition in mathematics, going back more than 2000 years. For more background info see for example https://brilliant.org/wiki/continued-fractions/ .  One notable mathematician working in this field was [William Brouncker](https://en.wikipedia.org/wiki/William_Brouncker,_2nd_Viscount_Brouncker) (born 1620 in Castlelyons, close to Fermoy).\n",
    "\n",
    "a) Write a python function `cf_list(a,b)` which for two integer numbers $a\\geq b$ returns a list of integer numbers $[c_0,c_1, \\ldots, c_{n-1} ]$ obtained through the following rules (Euclidean algorithm): \n",
    "\n",
    "* Calculate $c_0 = a/b$ using integer devision. \n",
    "* Update $a$ and $b$ so that the new $a$ is the old $b$ and the new $b$ is $(a \\mod b)$.  \n",
    "* Then calculate $c_1 = a/b$ and update $a$ and $b$ again as before. \n",
    "* Continue this procedure and calculate $c_2,c_3, \\ldots$ until the updated $b$ is zero. Then return the list $[c_0,c_1,\\ldots]$.\n",
    "\n",
    "Hint 1: Integer division in python can be written as `a//b`.  \n",
    "Hint 2: Test your code by chacking that `cf_list(415,93)` returns the list `[4,2,6,7]`."
   ]
  },
  {
   "cell_type": "code",
   "execution_count": null,
   "metadata": {
    "deletable": false,
    "nbgrader": {
     "checksum": "722b607628cb3cd0afd6dc7cb8370237",
     "grade": false,
     "grade_id": "cell-88c4709e7ed8fb78",
     "locked": false,
     "schema_version": 1,
     "solution": true
    }
   },
   "outputs": [],
   "source": [
    "def cf_list(a,b):\n",
    "    # YOUR CODE HERE\n",
    "    raise NotImplementedError()"
   ]
  },
  {
   "cell_type": "code",
   "execution_count": null,
   "metadata": {
    "deletable": false,
    "editable": false,
    "nbgrader": {
     "checksum": "763e9a880d3655f0b75c0ce66382b92c",
     "grade": true,
     "grade_id": "cell-e706f87c61a26239",
     "locked": true,
     "points": 0,
     "schema_version": 1,
     "solution": false
    }
   },
   "outputs": [],
   "source": [
    "assert(cf_list(415,93)==[4,2,6,7])"
   ]
  },
  {
   "cell_type": "markdown",
   "metadata": {},
   "source": [
    "b) Calculate `cf_list(45121,5325)`."
   ]
  },
  {
   "cell_type": "code",
   "execution_count": null,
   "metadata": {
    "deletable": false,
    "nbgrader": {
     "checksum": "64e3c81156a4b5791ded2d7c6006eba7",
     "grade": true,
     "grade_id": "cell-308ae21dba5e7153",
     "locked": false,
     "points": 0,
     "schema_version": 1,
     "solution": true
    }
   },
   "outputs": [],
   "source": [
    "# YOUR CODE HERE\n",
    "raise NotImplementedError()"
   ]
  },
  {
   "cell_type": "markdown",
   "metadata": {},
   "source": [
    "c) Now write a second function `cf_calc(clist)` which for a given list $[c_0,\\ldots,c_{n-1}]$ returns the fraction\n",
    "\\begin{equation}\n",
    "  x = c_0 + \\cfrac{1}{c_1\n",
    "          + \\cfrac{1}{c_2\n",
    "          + \\cfrac{1}{\\ddots + \\cfrac{1}{c_{n-1}} } } }\n",
    "\\end{equation}\n",
    "in the form of two numbers: the numerator and the denominator.\n",
    "\n",
    "Check that `cf_calc([4,2,6,7])` yields the pair `(415,93)` since\n",
    "\\begin{equation}\n",
    "  4 + \\cfrac{1}{2\n",
    "          + \\cfrac{1}{6\n",
    "          + \\cfrac{1}{7 } } } = \\frac{415}{93} \\approx 4.4623655914\n",
    "\\end{equation}\n"
   ]
  },
  {
   "cell_type": "code",
   "execution_count": null,
   "metadata": {
    "deletable": false,
    "nbgrader": {
     "checksum": "7b76ba83c97d5d6c40515e72fa58ac74",
     "grade": false,
     "grade_id": "cell-954f8eb4d2caeedf",
     "locked": false,
     "schema_version": 1,
     "solution": true
    }
   },
   "outputs": [],
   "source": [
    "\n",
    "def cf_calc(clist):\n",
    "    # YOUR CODE HERE\n",
    "    raise NotImplementedError()\n"
   ]
  },
  {
   "cell_type": "code",
   "execution_count": null,
   "metadata": {
    "deletable": false,
    "editable": false,
    "nbgrader": {
     "checksum": "9e8e3769b32cbe631dd73d5cf55c024c",
     "grade": true,
     "grade_id": "cell-48621cc4ff639c05",
     "locked": true,
     "points": 0,
     "schema_version": 1,
     "solution": false
    }
   },
   "outputs": [],
   "source": [
    "assert(cf_calc([4,2,6,7]) == (415,93))"
   ]
  },
  {
   "cell_type": "markdown",
   "metadata": {},
   "source": [
    "d) Calculate `cf_calc([1,1,1,1,1,1,1,1,1,1,1,1,1,1])` and compare with the golden ration $(1+\\sqrt{5})/2$"
   ]
  },
  {
   "cell_type": "code",
   "execution_count": null,
   "metadata": {
    "deletable": false,
    "nbgrader": {
     "checksum": "59244526d784b6fa2eb988739c76e1da",
     "grade": true,
     "grade_id": "cell-4d2feee5cfa3f87a",
     "locked": false,
     "points": 0,
     "schema_version": 1,
     "solution": true
    }
   },
   "outputs": [],
   "source": [
    "# YOUR CODE HERE\n",
    "raise NotImplementedError()"
   ]
  },
  {
   "cell_type": "markdown",
   "metadata": {},
   "source": [
    "e) Now use `cf_list()` to guess the continuous fraction of $\\sqrt{2}$. \n",
    "\n",
    "*Hint*: for a given float `q` and a suitably chosen large number `N`, use `cf_list(int(q*N), N)` and observe the emerging pattern as `N` increases."
   ]
  },
  {
   "cell_type": "code",
   "execution_count": null,
   "metadata": {
    "deletable": false,
    "nbgrader": {
     "checksum": "48cc23190d67bee05cb177881ef802ec",
     "grade": true,
     "grade_id": "cell-0f48a4c21dd57046",
     "locked": false,
     "points": 0,
     "schema_version": 1,
     "solution": true
    }
   },
   "outputs": [],
   "source": [
    "# YOUR CODE HERE\n",
    "raise NotImplementedError()"
   ]
  },
  {
   "cell_type": "markdown",
   "metadata": {},
   "source": [
    "f) Try to find the expansion for the Euler number $e$"
   ]
  },
  {
   "cell_type": "code",
   "execution_count": null,
   "metadata": {
    "deletable": false,
    "nbgrader": {
     "checksum": "dbcaa7221d1d8b1d8184e48210c38ab8",
     "grade": true,
     "grade_id": "ffgsdg",
     "locked": false,
     "points": 0,
     "schema_version": 1,
     "solution": true
    }
   },
   "outputs": [],
   "source": [
    "# YOUR CODE HERE\n",
    "raise NotImplementedError()"
   ]
  },
  {
   "cell_type": "markdown",
   "metadata": {},
   "source": [
    "## Q2 Typesetting Formulas\n",
    "\n",
    "Typeset the following formulas in Latex/Markdown"
   ]
  },
  {
   "cell_type": "markdown",
   "metadata": {},
   "source": [
    "a) ![plot](T05_f1.png)\n",
    "\n",
    "Hint: Use `\\int` for the integral."
   ]
  },
  {
   "cell_type": "markdown",
   "metadata": {
    "deletable": false,
    "nbgrader": {
     "checksum": "dae4d43ee296358afde828345943b3a8",
     "grade": true,
     "grade_id": "cell-03df3ee8476a2f2e",
     "locked": false,
     "points": 0,
     "schema_version": 1,
     "solution": true
    }
   },
   "source": [
    "YOUR ANSWER HERE"
   ]
  },
  {
   "cell_type": "markdown",
   "metadata": {},
   "source": [
    "b) ![plot](T05_f2.png)\n",
    "Hints: Use `\\sum` for the sum and `\\tilde{P}` to get $\\tilde{P}$. The angles at the right are obtained with `\\rangle` (not `>`)."
   ]
  },
  {
   "cell_type": "markdown",
   "metadata": {
    "deletable": false,
    "nbgrader": {
     "checksum": "bb1bc5353b6c3da8397c6130f4210ae1",
     "grade": true,
     "grade_id": "cell-34e625f32d350021",
     "locked": false,
     "points": 0,
     "schema_version": 1,
     "solution": true
    }
   },
   "source": [
    "YOUR ANSWER HERE"
   ]
  },
  {
   "cell_type": "markdown",
   "metadata": {},
   "source": [
    "c) A simple matrix is obtained with \n",
    "\n",
    "        \\begin{equation}\n",
    "        \\begin{array}{cc}\n",
    "        a & b \\\\\n",
    "        c & d\n",
    "        \\end{array}\n",
    "        \\end{equation}    \n",
    "\n",
    "which gives:\n",
    "\\begin{equation}\n",
    "    \\begin{array}{cc}\n",
    "    a & b \\\\\n",
    "    c & d\n",
    "    \\end{array}\n",
    "\\end{equation}  \n",
    "Use this construction to typeset the formula:\n",
    "![plot](T05_f3.png)"
   ]
  },
  {
   "cell_type": "markdown",
   "metadata": {
    "deletable": false,
    "nbgrader": {
     "checksum": "ccc0e4b12801c15ea67ed5d8885d74c9",
     "grade": true,
     "grade_id": "cell-b1c044dc91994ad0",
     "locked": false,
     "points": 0,
     "schema_version": 1,
     "solution": true
    }
   },
   "source": [
    "YOUR ANSWER HERE"
   ]
  },
  {
   "cell_type": "markdown",
   "metadata": {},
   "source": [
    "d) ![plot](T05_f4.png)"
   ]
  },
  {
   "cell_type": "markdown",
   "metadata": {
    "deletable": false,
    "nbgrader": {
     "checksum": "6c8fd9fe2c46346b26d079dcfda3c806",
     "grade": true,
     "grade_id": "cell-c94f362ef30e4bd6",
     "locked": false,
     "points": 0,
     "schema_version": 1,
     "solution": true
    }
   },
   "source": [
    "YOUR ANSWER HERE"
   ]
  },
  {
   "cell_type": "markdown",
   "metadata": {},
   "source": [
    "e) Cases are similar to arrays, but use the `cases` environment. For example\n",
    "\n",
    "    \\begin{cases}\n",
    "    0 & \\text{ if } x < 0 \\\\\n",
    "    1 & \\text{ if } x \\geq 0 \\\\\n",
    "    \\end{cases}\n",
    "    \n",
    "gives\n",
    "\\begin{equation}\n",
    "    \\begin{cases}\n",
    "    0 & \\text{ if } x < 0 \\\\\n",
    "    1 & \\text{ if } x \\geq 0 \\\\\n",
    "    \\end{cases}\n",
    "\\end{equation}\n",
    "\n",
    "Use this to typeset:\n",
    "![plot](T05_f5.png)"
   ]
  },
  {
   "cell_type": "markdown",
   "metadata": {
    "deletable": false,
    "nbgrader": {
     "checksum": "681cb6dd144868a40fc74de3cbdddcf6",
     "grade": true,
     "grade_id": "cell-66eccf113cd58139",
     "locked": false,
     "points": 0,
     "schema_version": 1,
     "solution": true
    }
   },
   "source": [
    "YOUR ANSWER HERE"
   ]
  }
 ],
 "metadata": {
  "kernelspec": {
   "display_name": "Python 3",
   "language": "python",
   "name": "python3"
  },
  "language_info": {
   "codemirror_mode": {
    "name": "ipython",
    "version": 3
   },
   "file_extension": ".py",
   "mimetype": "text/x-python",
   "name": "python",
   "nbconvert_exporter": "python",
   "pygments_lexer": "ipython3",
   "version": "3.7.1"
  }
 },
 "nbformat": 4,
 "nbformat_minor": 1
}
