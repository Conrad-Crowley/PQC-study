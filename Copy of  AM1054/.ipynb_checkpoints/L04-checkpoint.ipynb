{
 "cells": [
  {
   "cell_type": "markdown",
   "metadata": {},
   "source": [
    "# Symbolic calculations in Jupyter\n",
    "\n",
    "So far we have focused on numbers and list of numbers, and ways to manipulate and plot them. More recently we have also learned ways to produce nice text using *markdown*. One important task not covered yet is symbolic computation. For example we would like to be able to quickly take the derivative or the integral of a function, add up fractions, expand and factorize (products of) polynomials or similar tasks which you might have practiced a lot doing by hand in secondary-school.  \n",
    "\n",
    "\n",
    "In order to make python aware that we want to do symbolic calculations, we start by importing the library [sympy](http://sympy.org/) like so:\n",
    "\n",
    "    import sympy as sym\n",
    "Here again the `sym` is similar to `np` when we imported numpy, and is just a shorthand, which allows us to access the functions in the `sympy` library with the short prefix `sym`. Like with many things in python, there is a lot of information on `sympy` on the internet, for example a [live interpreter](http://live.sympy.org/) which you can use in a web browser without any python installation and also the official [tutorial](http://docs.sympy.org/latest/tutorial/) which I follow here loosely.\n",
    "\n",
    "In order to get nice printing of the formulas in the python output we also issue\n",
    "\n",
    "    sym.init_printing(use_latex=\"mathjax\")\n",
    "\n",
    "In order to be able to use symbols for symbolic calculations, let us define a number of python variables as symbols as follows:\n",
    "\n",
    "    x, y, z, t = sym.symbols('x y z t')\n",
    "    \n",
    "After this line the python variables `x`, `y`, `z` and `t` are now symbols with which we can do symboloic calculations. \n",
    "\n",
    "In summary, let us execute the following boilerplate cell, which also imports the plotting and numpy facilities:\n",
    "    "
   ]
  },
  {
   "cell_type": "code",
   "execution_count": 1,
   "metadata": {},
   "outputs": [],
   "source": [
    "import numpy as np\n",
    "import matplotlib.pyplot as plt\n",
    "import sympy as sym\n",
    "from ipywidgets import interact\n",
    "\n",
    "sym.init_printing(use_latex=\"mathjax\")\n",
    "x, y, z, t = sym.symbols('x y z t')"
   ]
  },
  {
   "cell_type": "markdown",
   "metadata": {},
   "source": [
    "The variables `x, y, z, t` are now of the type"
   ]
  },
  {
   "cell_type": "code",
   "execution_count": null,
   "metadata": {
    "collapsed": true
   },
   "outputs": [],
   "source": [
    "type(x)"
   ]
  },
  {
   "cell_type": "markdown",
   "metadata": {},
   "source": [
    "After this we can now write simple expressions, for example"
   ]
  },
  {
   "cell_type": "code",
   "execution_count": null,
   "metadata": {
    "collapsed": true
   },
   "outputs": [],
   "source": [
    "expr = x * 2 + x**2 - 3\n",
    "expr"
   ]
  },
  {
   "cell_type": "markdown",
   "metadata": {},
   "source": [
    "The expression `expr` is of the following type"
   ]
  },
  {
   "cell_type": "code",
   "execution_count": null,
   "metadata": {
    "collapsed": true
   },
   "outputs": [],
   "source": [
    "type(expr)"
   ]
  },
  {
   "cell_type": "markdown",
   "metadata": {},
   "source": [
    "You should see that the polynomial is printed nicely ordered, but nothing spectacular happened yet. Note that we now use again the python notation `**` for *to the power of* and not the LaTeX notation with the caret `^` ! "
   ]
  },
  {
   "cell_type": "code",
   "execution_count": null,
   "metadata": {
    "collapsed": true
   },
   "outputs": [],
   "source": [
    "expr - x"
   ]
  },
  {
   "cell_type": "markdown",
   "metadata": {},
   "source": [
    "okay, as expected"
   ]
  },
  {
   "cell_type": "code",
   "execution_count": null,
   "metadata": {
    "collapsed": true
   },
   "outputs": [],
   "source": [
    "expr*x"
   ]
  },
  {
   "cell_type": "markdown",
   "metadata": {},
   "source": [
    "Now we see that the brackets are not expanded out, but left alone. If we want to expand, we do "
   ]
  },
  {
   "cell_type": "code",
   "execution_count": null,
   "metadata": {
    "collapsed": true
   },
   "outputs": [],
   "source": [
    "expr2 = sym.expand(expr*x)\n",
    "expr2"
   ]
  },
  {
   "cell_type": "markdown",
   "metadata": {},
   "source": [
    "The same effect can also be achieved with the following syntax, which is sometimes more convenient:"
   ]
  },
  {
   "cell_type": "code",
   "execution_count": null,
   "metadata": {
    "collapsed": true
   },
   "outputs": [],
   "source": [
    "(expr*x).expand()"
   ]
  },
  {
   "cell_type": "markdown",
   "metadata": {},
   "source": [
    "Similarly `sym.factor` allows us to factorize expressions. "
   ]
  },
  {
   "cell_type": "code",
   "execution_count": null,
   "metadata": {
    "collapsed": true
   },
   "outputs": [],
   "source": [
    "sym.factor(expr2)"
   ]
  },
  {
   "cell_type": "markdown",
   "metadata": {},
   "source": [
    "Of course we also have access to fractions, "
   ]
  },
  {
   "cell_type": "code",
   "execution_count": null,
   "metadata": {
    "collapsed": true
   },
   "outputs": [],
   "source": [
    "expr3 = (x-1)/(x**2-1)\n",
    "expr3"
   ]
  },
  {
   "cell_type": "markdown",
   "metadata": {},
   "source": [
    "Here the factor $(x-1)$ was not automatically cancelled from nominator and denominator. We can fix this by calling `sym.cancel`, which tries to cancel common factors."
   ]
  },
  {
   "cell_type": "code",
   "execution_count": null,
   "metadata": {
    "collapsed": true
   },
   "outputs": [],
   "source": [
    "sym.cancel(expr3)"
   ]
  },
  {
   "cell_type": "markdown",
   "metadata": {},
   "source": [
    "In this case, we could also have used the more generic `sym.simplify` which in general tries to find short expressions with a number of different strategies."
   ]
  },
  {
   "cell_type": "code",
   "execution_count": null,
   "metadata": {
    "collapsed": true
   },
   "outputs": [],
   "source": [
    "sym.simplify(expr3)"
   ]
  },
  {
   "cell_type": "markdown",
   "metadata": {},
   "source": [
    "We can use `sym.Eq()` to make a nice mathematical equation out of it:"
   ]
  },
  {
   "cell_type": "code",
   "execution_count": null,
   "metadata": {
    "collapsed": true
   },
   "outputs": [],
   "source": [
    "sym.Eq(expr3, sym.cancel(expr3))"
   ]
  },
  {
   "cell_type": "markdown",
   "metadata": {},
   "source": [
    "Using `expr.subs()` we can substituts variables with other expressions, for example:"
   ]
  },
  {
   "cell_type": "code",
   "execution_count": null,
   "metadata": {
    "collapsed": true
   },
   "outputs": [],
   "source": [
    "(x**2 - 1).subs({x:y-1})"
   ]
  },
  {
   "cell_type": "markdown",
   "metadata": {},
   "source": [
    "Note the notation `{x:y-1}` here. The symbol `x` gets replaced by the term `y-1`. Again we need to explicitly `simplify()` this expression, if we want a simpler expression. "
   ]
  },
  {
   "cell_type": "code",
   "execution_count": null,
   "metadata": {
    "collapsed": true
   },
   "outputs": [],
   "source": [
    "(x**2 - 1).subs({x:y-1}).simplify()"
   ]
  },
  {
   "cell_type": "markdown",
   "metadata": {},
   "source": [
    "## Common mathematical functions"
   ]
  },
  {
   "cell_type": "markdown",
   "metadata": {},
   "source": [
    "Standard mathematical functions work as expected with sympy"
   ]
  },
  {
   "cell_type": "code",
   "execution_count": null,
   "metadata": {
    "collapsed": true
   },
   "outputs": [],
   "source": [
    "sym.sqrt(1/(x**2-1))"
   ]
  },
  {
   "cell_type": "code",
   "execution_count": null,
   "metadata": {
    "collapsed": true
   },
   "outputs": [],
   "source": [
    "sym.cos(3*t) + sym.tan(5*t)"
   ]
  },
  {
   "cell_type": "code",
   "execution_count": null,
   "metadata": {
    "collapsed": true
   },
   "outputs": [],
   "source": [
    "sym.log(1+x) - sym.log(1-x)"
   ]
  },
  {
   "cell_type": "code",
   "execution_count": null,
   "metadata": {
    "collapsed": true
   },
   "outputs": [],
   "source": [
    "(sym.log(1+x) - sym.acosh(1-x))"
   ]
  },
  {
   "cell_type": "code",
   "execution_count": null,
   "metadata": {
    "collapsed": true
   },
   "outputs": [],
   "source": [
    "sym.pi"
   ]
  },
  {
   "cell_type": "markdown",
   "metadata": {},
   "source": [
    "## Evaluating an expression numerically"
   ]
  },
  {
   "cell_type": "markdown",
   "metadata": {},
   "source": [
    "To obtain a numerical value for a symbolic expression `expr`, we can use `expr.evalf()`, for example the following calculate $\\pi$ to 100 digits:"
   ]
  },
  {
   "cell_type": "code",
   "execution_count": null,
   "metadata": {
    "collapsed": true
   },
   "outputs": [],
   "source": [
    "sym.pi.evalf(100)"
   ]
  },
  {
   "cell_type": "markdown",
   "metadata": {},
   "source": [
    "Because this operation of obtaining the numerical value is often used, there are actually two alternative ways for obtaining the same result:"
   ]
  },
  {
   "cell_type": "code",
   "execution_count": null,
   "metadata": {
    "collapsed": true
   },
   "outputs": [],
   "source": [
    "sym.pi.n(100)"
   ]
  },
  {
   "cell_type": "code",
   "execution_count": null,
   "metadata": {
    "collapsed": true
   },
   "outputs": [],
   "source": [
    "sym.N(sym.pi,100)"
   ]
  },
  {
   "cell_type": "markdown",
   "metadata": {},
   "source": [
    "`evalf()` can also be used to evaluate an expression by substituting variables with certain values. For example with "
   ]
  },
  {
   "cell_type": "code",
   "execution_count": null,
   "metadata": {
    "collapsed": true
   },
   "outputs": [],
   "source": [
    "expr = sym.sqrt(x)\n",
    "print(expr.evalf(subs={x:0.04}))\n",
    "print(expr.evalf(subs={x:0.05}))"
   ]
  },
  {
   "cell_type": "markdown",
   "metadata": {},
   "source": [
    "## Differentiation and integration"
   ]
  },
  {
   "cell_type": "markdown",
   "metadata": {},
   "source": [
    "Sympy is capable of doing basic calculus. For example"
   ]
  },
  {
   "cell_type": "code",
   "execution_count": null,
   "metadata": {
    "collapsed": true
   },
   "outputs": [],
   "source": [
    "sym.diff(sym.sin(x),x)"
   ]
  },
  {
   "cell_type": "markdown",
   "metadata": {},
   "source": [
    "Suppose that a Calculus result such as the indefinite integral of x cubed times the sine of x is needed."
   ]
  },
  {
   "cell_type": "code",
   "execution_count": null,
   "metadata": {
    "collapsed": true
   },
   "outputs": [],
   "source": [
    "sym.Integral( sym.sin(x) * x**3,(x,3,5) )"
   ]
  },
  {
   "cell_type": "code",
   "execution_count": null,
   "metadata": {
    "collapsed": true
   },
   "outputs": [],
   "source": [
    "sym.integrate( sym.sin(x) * x**3,(x,3,5) )"
   ]
  },
  {
   "cell_type": "markdown",
   "metadata": {},
   "source": [
    "Note that the first command simply returns the expression for the integral, while the second expression actually evaluates it. To get a proper number, do `evalf()`:"
   ]
  },
  {
   "cell_type": "code",
   "execution_count": null,
   "metadata": {
    "collapsed": true
   },
   "outputs": [],
   "source": [
    "sym.integrate( sym.sin(x) * x**3,(x,3,5) ).evalf()"
   ]
  },
  {
   "cell_type": "markdown",
   "metadata": {},
   "source": [
    "To get a nice equation you can also do the following:"
   ]
  },
  {
   "cell_type": "code",
   "execution_count": null,
   "metadata": {
    "collapsed": true
   },
   "outputs": [],
   "source": [
    "expr = sym.Integral(sym.sin(x) * x**3,x)\n",
    "sym.Eq(expr, expr.doit())"
   ]
  },
  {
   "cell_type": "markdown",
   "metadata": {},
   "source": [
    "Here we have used `Eq(expr1,expr2)` to write out an equation `expr1=expr2` and `expr.doit()` to perform the integration in `expr`. "
   ]
  },
  {
   "cell_type": "markdown",
   "metadata": {},
   "source": [
    "Similarly a pair of commands Derivative and diff exists"
   ]
  },
  {
   "cell_type": "code",
   "execution_count": null,
   "metadata": {
    "collapsed": true
   },
   "outputs": [],
   "source": [
    "expr = sym.Derivative(sym.tan(sym.sqrt(x)))\n",
    "sym.Eq(expr, sym.simplify(expr.doit()))"
   ]
  },
  {
   "cell_type": "code",
   "execution_count": null,
   "metadata": {
    "collapsed": true
   },
   "outputs": [],
   "source": [
    "q = sym.Integral(sym.simplify(expr.doit()))\n",
    "sym.Eq(q, sym.simplify(q.doit()))"
   ]
  },
  {
   "cell_type": "code",
   "execution_count": null,
   "metadata": {
    "collapsed": true
   },
   "outputs": [],
   "source": [
    "q = sym.Integral(sym.sin(x**2), (x, -sym.oo, sym.oo))\n",
    "sym.Eq(q, sym.simplify(q.doit()))"
   ]
  },
  {
   "cell_type": "markdown",
   "metadata": {},
   "source": [
    "In this last equation, we have denoted the limits of the integral using `sym.oo` which corresponds to infinity  (note the similarity to the symbol $\\infty$).  We have, for example"
   ]
  },
  {
   "cell_type": "code",
   "execution_count": null,
   "metadata": {
    "collapsed": true
   },
   "outputs": [],
   "source": [
    "sym.oo > 1000"
   ]
  },
  {
   "cell_type": "markdown",
   "metadata": {},
   "source": [
    "## Combining sympy with sliders"
   ]
  },
  {
   "cell_type": "markdown",
   "metadata": {},
   "source": [
    "It is very efficient to combine sympy with interactive sliders. For example consider the following expression:"
   ]
  },
  {
   "cell_type": "code",
   "execution_count": null,
   "metadata": {
    "collapsed": true
   },
   "outputs": [],
   "source": [
    "expr = (x+y)**17 \n",
    "sym.Eq(expr, sym.expand(expr))"
   ]
  },
  {
   "cell_type": "markdown",
   "metadata": {},
   "source": [
    "We can now change the number 17 by hand, if we want to explore what happens for other powers. However we can also introduce a slider:"
   ]
  },
  {
   "cell_type": "code",
   "execution_count": null,
   "metadata": {
    "collapsed": true
   },
   "outputs": [],
   "source": [
    "from ipywidgets import interact\n",
    "\n",
    "@interact(n=(1,30))\n",
    "def pol(n=16):\n",
    "    expr = (x+y)**n \n",
    "    print(sym.Eq(expr, sym.expand(expr)))"
   ]
  },
  {
   "cell_type": "markdown",
   "metadata": {},
   "source": [
    "Note that while this works, the printing of the formula with `print()` is not as nice as before.  We can fix this by using a function `display()` as follows:"
   ]
  },
  {
   "cell_type": "code",
   "execution_count": null,
   "metadata": {
    "collapsed": true
   },
   "outputs": [],
   "source": [
    "from ipywidgets import interact\n",
    "from IPython.display import display\n",
    "\n",
    "@interact(n=(1,30))\n",
    "def pol(n=16):\n",
    "    expr = (x+y)**n \n",
    "    display(sym.Eq(expr, sym.expand(expr)))"
   ]
  },
  {
   "cell_type": "markdown",
   "metadata": {},
   "source": [
    "## Plotting your functions\n",
    "\n",
    "Now that we have set up a number of functions, let us also see how we can plot them. Let's say that the task is to plot the function \n",
    "\\begin{equation}\n",
    "f(x) = \\sin\\left( x^2 \\right)\n",
    "\\end{equation}\n",
    "and its derivative $f'(x)$ into the same graph. Using `sys.evalf` we could of course try to evaluate the function $f(x)$ point by point, then construct a list of points and then plot it. Instead of this, we use a more elegant method of converting our function into a \"numpy\" function. This function, can then be plotted in the usual way. Explicitly:"
   ]
  },
  {
   "cell_type": "code",
   "execution_count": 2,
   "metadata": {},
   "outputs": [
    {
     "data": {
      "text/plain": [
       "<matplotlib.legend.Legend at 0x7fc451a9f438>"
      ]
     },
     "execution_count": 2,
     "metadata": {},
     "output_type": "execute_result"
    },
    {
     "data": {
      "image/png": "[encoded data removed]",
      "text/plain": [
       "<Figure size 432x288 with 1 Axes>"
      ]
     },
     "metadata": {
      "needs_background": "light"
     },
     "output_type": "display_data"
    }
   ],
   "source": [
    "f = sym.sin(x**2)\n",
    "fprime = sym.diff(f,x)\n",
    "\n",
    "f_np = sym.lambdify(x, f)\n",
    "fprime_np   = sym.lambdify(x, fprime)\n",
    "\n",
    "myx = np.linspace(-5,5,200)\n",
    "\n",
    "plt.plot(myx, f_np(myx), label=r\"$\\sin x^2$\")\n",
    "plt.plot(myx, fprime_np(myx), label=r\"$\\frac{d}{dx}\\,\\sin x^2$\")\n",
    "plt.legend()"
   ]
  },
  {
   "cell_type": "markdown",
   "metadata": {},
   "source": [
    "Note also that the label strings are written in the format `r\"...\"`. Strings with the letter `r` in front of them indicate *raw* strings. Try, what happens, if you take out the `r`."
   ]
  },
  {
   "cell_type": "markdown",
   "metadata": {},
   "source": [
    "## Solving equations\n",
    "\n",
    "One common task in algebra is to solve a set of simultaneous equations, say\n",
    "\n",
    "\\begin{align}\n",
    "3 x + 5 y &= 13\\\\\n",
    "x + 2 y &= 5\n",
    "\\end{align}\n",
    "\n",
    "\n",
    "To get the values of $x$ and $y$ in this case, we do"
   ]
  },
  {
   "cell_type": "code",
   "execution_count": null,
   "metadata": {
    "collapsed": true
   },
   "outputs": [],
   "source": [
    "equations = [ 3*x + 5*y - 13, \n",
    "                x + 2*y - 5 ]\n",
    "sym.solve(equations, (x,y) )"
   ]
  },
  {
   "cell_type": "markdown",
   "metadata": {},
   "source": [
    "Of course, more complicated equations, with more than one solution is also possible, for example the popular \n",
    "\\begin{equation}\n",
    "ax^2 + bx + c = 0.\n",
    "\\end{equation}"
   ]
  },
  {
   "cell_type": "code",
   "execution_count": null,
   "metadata": {
    "collapsed": true
   },
   "outputs": [],
   "source": [
    "a,b,c = sym.symbols(\"a b c\")\n",
    "sym.solve(a*x**2 + b*x +c, x )"
   ]
  },
  {
   "cell_type": "markdown",
   "metadata": {},
   "source": [
    "## Series expansion"
   ]
  },
  {
   "cell_type": "markdown",
   "metadata": {},
   "source": [
    "Once you have a given (possibly complicated) expression, you might want to aprroximate it around a given point $x_0$ by simple polynomials.  Such an expansion is called a Taylor expansion and approximates for example a function $f(x)$ as follows:\n",
    "\n",
    "\\begin{equation}\n",
    "  f(x) \\approx f(x_0) + f'(x_0) (x-x_0) + \\frac{f''(x_0)}{2} (x-x_0)^2 + \\frac{f'''(x_0)}{3!} (x-x_0)^3 + \\ldots\n",
    "\\end{equation}\n",
    "\n",
    "The Taylor expansion involves the calculation of high-order derivatives and can be easily done by Python.  For example consider:"
   ]
  },
  {
   "cell_type": "code",
   "execution_count": null,
   "metadata": {
    "collapsed": true
   },
   "outputs": [],
   "source": [
    "f = sym.exp(sym.sin(x))\n",
    "f"
   ]
  },
  {
   "cell_type": "code",
   "execution_count": null,
   "metadata": {
    "collapsed": true
   },
   "outputs": [],
   "source": [
    "f.series(x, 0, 5)"
   ]
  },
  {
   "cell_type": "markdown",
   "metadata": {},
   "source": [
    "For further calculations, we might like to remove the $\\mathcal{O}$ symbol:"
   ]
  },
  {
   "cell_type": "code",
   "execution_count": null,
   "metadata": {
    "collapsed": true
   },
   "outputs": [],
   "source": [
    "f = sym.exp(sym.sin(x))\n",
    "f.series(x, 0, 5).removeO()"
   ]
  },
  {
   "cell_type": "markdown",
   "metadata": {},
   "source": [
    "Instead of expanding around 0, we might also want to expand around another number, for instance:"
   ]
  },
  {
   "cell_type": "code",
   "execution_count": null,
   "metadata": {
    "collapsed": true
   },
   "outputs": [],
   "source": [
    "f = sym.exp(sym.sin(x))\n",
    "offset = 1\n",
    "f.series(x, 1, 5).removeO()"
   ]
  },
  {
   "cell_type": "markdown",
   "metadata": {},
   "source": [
    "Obviously the expressions get complicated, and it would be nice to see, what we are actually doing. Let us therefore look at plotting symbolic functions"
   ]
  },
  {
   "cell_type": "markdown",
   "metadata": {},
   "source": [
    "We can now return to our previous problem of plotting the series expansion of $e^{\\sin x}$"
   ]
  },
  {
   "cell_type": "code",
   "execution_count": null,
   "metadata": {},
   "outputs": [],
   "source": [
    "f = sym.exp(sym.sin(x))\n",
    "offset = 1\n",
    "s1 = f.series(x, offset, 2).removeO()\n",
    "s2 = f.series(x, offset, 3).removeO()\n",
    "s3 = f.series(x, offset, 4).removeO()\n",
    "s4 = f.series(x, offset, 5).removeO()\n",
    "\n",
    "f_np = sym.lambdify(x, f, \"numpy\")\n",
    "\n",
    "s1_np = sym.lambdify(x, s1, \"numpy\")\n",
    "s2_np = sym.lambdify(x, s2, \"numpy\")\n",
    "s3_np = sym.lambdify(x, s3, \"numpy\")\n",
    "\n",
    "myx = np.linspace(-5,5,200)\n",
    "\n",
    "plt.plot(myx, f_np(myx), label=r\"$e^{\\sin x}$\")\n",
    "\n",
    "plt.plot(myx, s1_np(myx), label=r\"s1\")\n",
    "plt.plot(myx, s2_np(myx), label=r\"s2\")\n",
    "plt.plot(myx, s3_np(myx), label=r\"s3\")\n",
    "plt.legend()\n",
    "plt.ylim((-2,3))\n",
    "plt.plot(offset,f_np(offset),\"ro\")\n"
   ]
  },
  {
   "cell_type": "markdown",
   "metadata": {},
   "source": [
    "Of course, we can also use a loop to reduce the repetitive parts in the code:"
   ]
  },
  {
   "cell_type": "code",
   "execution_count": null,
   "metadata": {},
   "outputs": [],
   "source": [
    "f = sym.exp(sym.sin(x))\n",
    "offset = 1\n",
    "\n",
    "myx = np.linspace(-5,5,200)\n",
    "\n",
    "f_np = sym.lambdify(x, f, \"numpy\")\n",
    "plt.plot(myx, f_np(myx), label=r\"$e^{\\sin x}$\")\n",
    "\n",
    "for order in range(2,6):\n",
    "    sx = f.series(x, offset, order).removeO()\n",
    "    sx_np = sym.lambdify(x, sx, \"numpy\")\n",
    "    plt.plot(myx, sx_np(myx), label=r\"s\" +str(order))\n",
    "\n",
    "\n",
    "plt.legend()\n",
    "plt.ylim((-2,3))\n",
    "plt.plot(offset,f_np(offset),\"ro\")\n"
   ]
  }
 ],
 "metadata": {
  "kernelspec": {
   "display_name": "Python 3",
   "language": "python",
   "name": "python3"
  },
  "language_info": {
   "codemirror_mode": {
    "name": "ipython",
    "version": 3
   },
   "file_extension": ".py",
   "mimetype": "text/x-python",
   "name": "python",
   "nbconvert_exporter": "python",
   "pygments_lexer": "ipython3",
   "version": "3.7.6"
  }
 },
 "nbformat": 4,
 "nbformat_minor": 1
}
