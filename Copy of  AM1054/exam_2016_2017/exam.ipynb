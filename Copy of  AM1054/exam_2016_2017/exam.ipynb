{
 "cells": [
  {
   "cell_type": "markdown",
   "metadata": {},
   "source": [
    "# <p style=\"text-align:center;\">OLLSCOIL NA hÉIREANN, CORCAIGH</p> *<p style=\"text-align:center;\">THE NATIONAL UNIVERSITY OF IRELAND, CORK</p>*  <p style=\"text-align:center;\">COLÁISTE NA hOLLSCOILE, CORCAIGH</p> *<p style=\"text-align:center;\">UNIVERSITY COLLEGE, CORK</p>*"
   ]
  },
  {
   "cell_type": "markdown",
   "metadata": {},
   "source": [
    "## <p style=\"text-align:center;\">ACADEMIC YEAR 2016/2017</p>"
   ]
  },
  {
   "cell_type": "markdown",
   "metadata": {},
   "source": [
    "## <p style=\"text-align:center;\">Semester 1 - Winter 2016</p>"
   ]
  },
  {
   "cell_type": "markdown",
   "metadata": {},
   "source": [
    "### <p style=\"text-align:center;\">Applied Mathematics</p>"
   ]
  },
  {
   "cell_type": "markdown",
   "metadata": {},
   "source": [
    "### <p style=\"text-align:center;\">AM1054 - Mathematical Software</p>"
   ]
  },
  {
   "cell_type": "markdown",
   "metadata": {},
   "source": [
    "### <p style=\"text-align:center;\">Prof. C. Budd</p>\n",
    "### <p style=\"text-align:center;\">Prof. S. Wieczorek</p>\n",
    "### <p style=\"text-align:center;\">Dr. A. Amann</p>"
   ]
  },
  {
   "cell_type": "markdown",
   "metadata": {},
   "source": [
    "### <p style=\"text-align:center;\">Time allowed: One and a half hours</p>"
   ]
  },
  {
   "cell_type": "markdown",
   "metadata": {},
   "source": [
    "### <p style=\"text-align:center;\">Reading time of fifteen minutes is permitted prior to the commencement of this examination.</p>"
   ]
  },
  {
   "cell_type": "markdown",
   "metadata": {},
   "source": [
    "### <p style=\"text-align:center;\">Marks may be lost if not all your work is clearly shown.</p>"
   ]
  },
  {
   "cell_type": "markdown",
   "metadata": {},
   "source": [
    "### <p style=\"text-align:center;\">Full marks for complete answers to three (out of four) questions.</p>"
   ]
  },
  {
   "cell_type": "code",
   "execution_count": null,
   "metadata": {
    "collapsed": false
   },
   "outputs": [],
   "source": [
    "# execute this cell before you start the examination\n",
    "%matplotlib inline\n",
    "import numpy as np\n",
    "import matplotlib.pyplot as plt\n",
    "import sympy as sym\n",
    "\n",
    "sym.init_printing(use_latex=\"mathjax\")\n",
    "x, y, z, t = sym.symbols('x y z t')\n",
    "\n",
    "from ipywidgets.widgets import interact"
   ]
  },
  {
   "cell_type": "markdown",
   "metadata": {},
   "source": [
    "# 1. Presentation Skills"
   ]
  },
  {
   "cell_type": "markdown",
   "metadata": {},
   "source": [
    "a) Typeset the following formula using Markdown / LaTeX"
   ]
  },
  {
   "cell_type": "markdown",
   "metadata": {},
   "source": [
    "<img src=\"fig1.png\" width=\"500\" />"
   ]
  },
  {
   "cell_type": "markdown",
   "metadata": {
    "deletable": false,
    "nbgrader": {
     "checksum": "8663dd45166819db73a1be2021fe62fb",
     "grade": true,
     "grade_id": "1a",
     "locked": false,
     "points": 5,
     "solution": true
    }
   },
   "source": [
    "YOUR ANSWER HERE"
   ]
  },
  {
   "cell_type": "markdown",
   "metadata": {},
   "source": [
    "b) Typeset the following formula using Markdown / LaTeX"
   ]
  },
  {
   "cell_type": "markdown",
   "metadata": {},
   "source": [
    "<img src=\"fig2.png\" width=\"500\" />"
   ]
  },
  {
   "cell_type": "markdown",
   "metadata": {
    "deletable": false,
    "nbgrader": {
     "checksum": "d1c3297d5aa0e2979e9eb0d5f9895771",
     "grade": true,
     "grade_id": "1b",
     "locked": false,
     "points": 5,
     "solution": true
    }
   },
   "source": [
    "YOUR ANSWER HERE"
   ]
  },
  {
   "cell_type": "markdown",
   "metadata": {},
   "source": [
    "c) The file \"dat.csv\" contains three columns of data.  Do the following with this data:\n",
    "\n",
    "i) Use Python to calculate the avarage of the data in the last column"
   ]
  },
  {
   "cell_type": "code",
   "execution_count": null,
   "metadata": {
    "collapsed": false,
    "deletable": false,
    "nbgrader": {
     "checksum": "d190ddbb562faf89843f06602cb0629b",
     "grade": true,
     "grade_id": "1ci",
     "locked": false,
     "points": 2,
     "solution": true
    }
   },
   "outputs": [],
   "source": [
    "# YOUR CODE HERE\n",
    "raise NotImplementedError()"
   ]
  },
  {
   "cell_type": "markdown",
   "metadata": {},
   "source": [
    "ii) Plot the first column versus the last column using a green dashed line. Indicate the previously calculated average by a horizontal solid red line in the same graph. "
   ]
  },
  {
   "cell_type": "code",
   "execution_count": null,
   "metadata": {
    "collapsed": false,
    "deletable": false,
    "nbgrader": {
     "checksum": "05e0cf8043cc2dff5d48525fe6c96582",
     "grade": true,
     "grade_id": "1cii",
     "locked": false,
     "points": 3,
     "solution": true
    }
   },
   "outputs": [],
   "source": [
    "# YOUR CODE HERE\n",
    "raise NotImplementedError()"
   ]
  },
  {
   "cell_type": "markdown",
   "metadata": {},
   "source": [
    "iii) Write code, which prints all elements of the second column which are greater than or equal to 0.2."
   ]
  },
  {
   "cell_type": "code",
   "execution_count": null,
   "metadata": {
    "collapsed": false,
    "deletable": false,
    "nbgrader": {
     "checksum": "2289e7e474b228a8b1d3c09d97ab8c21",
     "grade": true,
     "grade_id": "1ciii",
     "locked": false,
     "points": 3,
     "solution": true
    }
   },
   "outputs": [],
   "source": [
    "# YOUR CODE HERE\n",
    "raise NotImplementedError()"
   ]
  },
  {
   "cell_type": "markdown",
   "metadata": {},
   "source": [
    "iv) How often are the elements in second column bigger than the elements in the last column? Write code, which answers this question."
   ]
  },
  {
   "cell_type": "code",
   "execution_count": null,
   "metadata": {
    "collapsed": false,
    "deletable": false,
    "nbgrader": {
     "checksum": "d91b276c5a6e3a673f422b79d03c8a54",
     "grade": true,
     "grade_id": "1civ",
     "locked": false,
     "points": 3,
     "solution": true
    }
   },
   "outputs": [],
   "source": [
    "# YOUR CODE HERE\n",
    "raise NotImplementedError()"
   ]
  },
  {
   "cell_type": "markdown",
   "metadata": {},
   "source": [
    "v) Plot the second column versus the third column using red dots. Label the axes with \"second column\" and \"third column\" as appropriate.  Add a legend box with \"dat.csv\" for the red dots. "
   ]
  },
  {
   "cell_type": "code",
   "execution_count": null,
   "metadata": {
    "collapsed": false,
    "deletable": false,
    "nbgrader": {
     "checksum": "5ede1fedaf7b9a3e7bbff94c1b4ef273",
     "grade": true,
     "grade_id": "1cv",
     "locked": false,
     "points": 3,
     "solution": true
    }
   },
   "outputs": [],
   "source": [
    "# YOUR CODE HERE\n",
    "raise NotImplementedError()"
   ]
  },
  {
   "cell_type": "markdown",
   "metadata": {},
   "source": [
    "vi) Redo the previous plot, but now alterate between red and blue dots. Choose red for data from odd rows (first, third, fifth, ...) and blue for data from even rows.  Label the red dots with \"odd\" and the blue dots with \"even\" in the legend. "
   ]
  },
  {
   "cell_type": "code",
   "execution_count": null,
   "metadata": {
    "collapsed": false,
    "deletable": false,
    "nbgrader": {
     "checksum": "12470a7752753e5de28a2fa1e1ab282d",
     "grade": true,
     "grade_id": "1cvi",
     "locked": false,
     "points": 3,
     "solution": true
    }
   },
   "outputs": [],
   "source": [
    "# YOUR CODE HERE\n",
    "raise NotImplementedError()"
   ]
  },
  {
   "cell_type": "markdown",
   "metadata": {},
   "source": [
    "# 2. Viète's formula"
   ]
  },
  {
   "cell_type": "markdown",
   "metadata": {},
   "source": [
    "The *Viète's formula*  is given by\n",
    "\\begin{equation}\n",
    "  \\frac2\\pi=\\frac{\\sqrt2}2\\cdot\\frac{\\sqrt{2+\\sqrt2}}2\\cdot\\frac{\\sqrt{2+\\sqrt{2+\\sqrt2}}}2\\cdots.\n",
    "\\end{equation}\n",
    "Use this formula to define *Viète's sequence* as $V_0 = 1$, $V_1 = \\frac{\\sqrt2}2$, $\\ldots$\n",
    "\n",
    "a) Write a Python function `V(n)` which returns the numerical value of $V_n$. Calculate `V(1)` and `V(10)`."
   ]
  },
  {
   "cell_type": "code",
   "execution_count": null,
   "metadata": {
    "collapsed": false,
    "deletable": false,
    "nbgrader": {
     "checksum": "c6401fdc9ad5f687e1d87b27b44b0de6",
     "grade": true,
     "grade_id": "2a",
     "locked": false,
     "points": 8,
     "solution": true
    }
   },
   "outputs": [],
   "source": [
    "# YOUR CODE HERE\n",
    "raise NotImplementedError()"
   ]
  },
  {
   "cell_type": "markdown",
   "metadata": {},
   "source": [
    "b) It is known that \n",
    "\\begin{equation}\n",
    "\\lim_{n\\to \\infty}   V(n)= \\frac{2}{\\pi}\n",
    "\\end{equation}\n",
    "How well does this approximation work for finite $n$?  Test for $n=2^0,2^1,2^2,\\ldots,2^8$. Calculate a table which contains n in the first column and the relative error $\\epsilon_n$ in the second column.\n"
   ]
  },
  {
   "cell_type": "code",
   "execution_count": null,
   "metadata": {
    "collapsed": false,
    "deletable": false,
    "nbgrader": {
     "checksum": "392742897c02fb7c5543226532ec3b1d",
     "grade": true,
     "grade_id": "2b",
     "locked": false,
     "points": 6,
     "solution": true
    }
   },
   "outputs": [],
   "source": [
    "# YOUR CODE HERE\n",
    "raise NotImplementedError()"
   ]
  },
  {
   "cell_type": "markdown",
   "metadata": {},
   "source": [
    "c) Redo part (b), but instead of printing, now plot $\\log(n)$ versus $\\log \\epsilon_n$ as black dots. "
   ]
  },
  {
   "cell_type": "code",
   "execution_count": null,
   "metadata": {
    "collapsed": false,
    "deletable": false,
    "nbgrader": {
     "checksum": "946f4633b7926c2b5bb90248ec8bcc6e",
     "grade": true,
     "grade_id": "2c",
     "locked": false,
     "points": 6,
     "solution": true
    }
   },
   "outputs": [],
   "source": [
    "# YOUR CODE HERE\n",
    "raise NotImplementedError()"
   ]
  },
  {
   "cell_type": "markdown",
   "metadata": {},
   "source": [
    "d) redo part (c), but now include include suitable lines to estimate the order of convergence of this method to calculate $2/\\pi$. What order of convergence do you estimate?"
   ]
  },
  {
   "cell_type": "code",
   "execution_count": null,
   "metadata": {
    "collapsed": false,
    "deletable": false,
    "nbgrader": {
     "checksum": "ecc420b304969e0af24b4031799f7da6",
     "grade": true,
     "grade_id": "2da",
     "locked": false,
     "points": 5,
     "solution": true
    }
   },
   "outputs": [],
   "source": [
    "# YOUR CODE HERE\n",
    "raise NotImplementedError()"
   ]
  },
  {
   "cell_type": "markdown",
   "metadata": {
    "deletable": false,
    "nbgrader": {
     "checksum": "4981a37bf68908ff7c3c0436df6b497a",
     "grade": true,
     "grade_id": "2db",
     "locked": false,
     "points": 2,
     "solution": true
    }
   },
   "source": [
    "YOUR ANSWER HERE"
   ]
  },
  {
   "cell_type": "markdown",
   "metadata": {},
   "source": [
    "# 3. Symbolic computations"
   ]
  },
  {
   "cell_type": "markdown",
   "metadata": {},
   "source": [
    "a) Consider the function \n",
    "\\begin{equation}\n",
    "f(x, y, z) = -x^3 + y \\cos(x)^2 - z\n",
    "\\end{equation}\n",
    "Use Python to calculate \n",
    "\\begin{equation} \n",
    "g(x, y, z) =  \\frac{\\partial f(x, y, z)}{\\partial x}\n",
    "\\end{equation}\n",
    "and \n",
    "\\begin{equation} \n",
    "h(x, y, z) =  \\frac{\\partial f(x, y, z)}{\\partial y}\n",
    "\\end{equation}\n",
    "\n",
    "symbolically.  (Note, if for some reason you have overwritten the variables `x`, `y`, or `z` in any other parts of the exam, you might want to reexecute the first cell of the exam.)"
   ]
  },
  {
   "cell_type": "code",
   "execution_count": null,
   "metadata": {
    "collapsed": false,
    "deletable": false,
    "nbgrader": {
     "checksum": "b9a5fde1ed0faffe632691a59ab7ce72",
     "grade": true,
     "grade_id": "3a",
     "locked": false,
     "points": 5,
     "solution": true
    }
   },
   "outputs": [],
   "source": [
    "# YOUR CODE HERE\n",
    "raise NotImplementedError()"
   ]
  },
  {
   "cell_type": "markdown",
   "metadata": {},
   "source": [
    "b) Use Python to determine $f(1, 3,2)$ and $g(1, 3,2)$ as a floating point number. "
   ]
  },
  {
   "cell_type": "code",
   "execution_count": null,
   "metadata": {
    "collapsed": false,
    "deletable": false,
    "nbgrader": {
     "checksum": "4754cb5a57822c86942b9adfc5e3532d",
     "grade": true,
     "grade_id": "3b",
     "locked": false,
     "points": 4,
     "solution": true
    }
   },
   "outputs": [],
   "source": [
    "# YOUR CODE HERE\n",
    "raise NotImplementedError()"
   ]
  },
  {
   "cell_type": "markdown",
   "metadata": {
    "nbgrader": {
     "grade": false,
     "locked": false,
     "solution": false
    }
   },
   "source": [
    "c) Plot the two lines $f(x, 3, 2)$ and $g(x, 3, 2)$ as well as a horizontal line on the x-axis into the same plot for $y = 3$ and $z = 2$.   Choose the x-axis in the range from -2 to 2."
   ]
  },
  {
   "cell_type": "code",
   "execution_count": null,
   "metadata": {
    "collapsed": false,
    "deletable": false,
    "nbgrader": {
     "checksum": "88ec28ecc1d03c1e8acf844885af48d3",
     "grade": true,
     "grade_id": "3c",
     "locked": false,
     "points": 5,
     "solution": true
    }
   },
   "outputs": [],
   "source": [
    "# YOUR CODE HERE\n",
    "raise NotImplementedError()"
   ]
  },
  {
   "cell_type": "markdown",
   "metadata": {},
   "source": [
    "d) Redo the plot from the previous question, but now add two interactive sliders which allow you to change $y$ in the range from -3 to 3 and $z$ in the range from -2 to 2. \n"
   ]
  },
  {
   "cell_type": "code",
   "execution_count": null,
   "metadata": {
    "collapsed": false,
    "deletable": false,
    "nbgrader": {
     "checksum": "04624e415ec3cb67df4f740b8c8e19e5",
     "grade": true,
     "grade_id": "3d",
     "locked": false,
     "points": 7,
     "solution": true
    }
   },
   "outputs": [],
   "source": [
    "# YOUR CODE HERE\n",
    "raise NotImplementedError()"
   ]
  },
  {
   "cell_type": "markdown",
   "metadata": {},
   "source": [
    "e) Using the above sliders, try to graphically find a pair $(y,z)$ such that the equations \n",
    "\\begin{align}\n",
    "f(1,y,z) &= 0\\\\\n",
    "g(1,y,z) &= 0\\\\\n",
    "\\end{align}\n",
    "are simultaneously fulfilled. "
   ]
  },
  {
   "cell_type": "markdown",
   "metadata": {
    "deletable": false,
    "nbgrader": {
     "checksum": "63f6acb8e52b537ec8cafff9afc2f3ee",
     "grade": true,
     "grade_id": "3e",
     "locked": false,
     "points": 6,
     "solution": true
    }
   },
   "source": [
    "YOUR ANSWER HERE"
   ]
  },
  {
   "cell_type": "markdown",
   "metadata": {},
   "source": [
    "# 4. Legendre Polynomials"
   ]
  },
  {
   "cell_type": "markdown",
   "metadata": {},
   "source": [
    "The Legendre polynomials $P_n(x)$ can be recursively defined by the following rules:\n",
    "\n",
    "\\begin{align}\n",
    "P_0(x) &= 1 \\\\\n",
    "P_1(x) &= x \\\\\n",
    "(k+1) P_{k+1}(x) &= (2k+1) x P_{k}(x) - k P_{k-1}(x)\n",
    "\\end{align}\n",
    "\n",
    "(Do not use the Legendre functions from sympy or numpy in this question)\n",
    "\n",
    "a) Write a python function `legendre(n)` which for $n>0$ returns a list of polynomials $P_0(x), \\ldots, P_{n-1}(x)$ according to the rules above. Calculate `legendre(7)`"
   ]
  },
  {
   "cell_type": "code",
   "execution_count": null,
   "metadata": {
    "collapsed": false,
    "deletable": false,
    "nbgrader": {
     "checksum": "1448e8320c4e125cca65050dbe354ba1",
     "grade": true,
     "grade_id": "4a",
     "locked": false,
     "points": 9,
     "solution": true
    }
   },
   "outputs": [],
   "source": [
    "# YOUR CODE HERE\n",
    "raise NotImplementedError()"
   ]
  },
  {
   "cell_type": "markdown",
   "metadata": {},
   "source": [
    "b) Using your function `legendre()` from part (a) plot $P_1(x),\\ldots, P_9(x)$ for $x\\in[-1,1]$"
   ]
  },
  {
   "cell_type": "code",
   "execution_count": null,
   "metadata": {
    "collapsed": false,
    "deletable": false,
    "nbgrader": {
     "checksum": "d953eb793a4dec7c5e0dc2a662a8d812",
     "grade": true,
     "grade_id": "4b",
     "locked": false,
     "points": 9,
     "solution": true
    }
   },
   "outputs": [],
   "source": [
    "# YOUR CODE HERE\n",
    "raise NotImplementedError()"
   ]
  },
  {
   "cell_type": "markdown",
   "metadata": {},
   "source": [
    "c) An alternive way of expressing the Legendre polynomials is through the formula\n",
    "\n",
    "\\begin{equation}\n",
    " P_{n}(x)={1 \\over 2^{n}n!}{d^{n} \\over dx^{n}}\\left[(x^{2}-1)^{n}\\right]\n",
    "\\end{equation}\n",
    "Calculate $P_{10}$ with this method and show that it yields the same result as your previous function `legendre(n)`."
   ]
  },
  {
   "cell_type": "code",
   "execution_count": null,
   "metadata": {
    "collapsed": false,
    "deletable": false,
    "nbgrader": {
     "checksum": "5cf3e70a44418a2db843e07dc993380d",
     "grade": true,
     "grade_id": "4c",
     "locked": false,
     "points": 9,
     "solution": true
    }
   },
   "outputs": [],
   "source": [
    "# YOUR CODE HERE\n",
    "raise NotImplementedError()"
   ]
  }
 ],
 "metadata": {
  "kernelspec": {
   "display_name": "Python 3",
   "language": "python",
   "name": "python3"
  },
  "language_info": {
   "codemirror_mode": {
    "name": "ipython",
    "version": 3
   },
   "file_extension": ".py",
   "mimetype": "text/x-python",
   "name": "python",
   "nbconvert_exporter": "python",
   "pygments_lexer": "ipython3",
   "version": "3.5.2"
  }
 },
 "nbformat": 4,
 "nbformat_minor": 0
}
