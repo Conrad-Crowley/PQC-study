{
 "cells": [
  {
   "cell_type": "code",
   "execution_count": null,
   "metadata": {},
   "outputs": [],
   "source": [
    "%matplotlib inline\n",
    "import numpy as np\n",
    "import matplotlib.pylab as plt"
   ]
  },
  {
   "cell_type": "markdown",
   "metadata": {},
   "source": [
    "# Plot some simple functions\n",
    "\n",
    "Make a single plot with the following properties:\n",
    "\n",
    "1. The x axis runs from $0$ to $2\\pi$. (Hint, you can access the number $\\pi$ through `np.pi`.)\n",
    "2. The y axis runs from $-2$ to $+2$. \n",
    "3. The label on the $x$ axis is $x$\n",
    "3. The label on the $y$ axis is $f(x)$, with `fontsize=\"xx-large\"`.\n",
    "3. The function $\\sin(x)$ is plotted as a solid red line using 100 points. Hint: use `np.sin()`.\n",
    "3. Blue plus-signs `+` appear on the sine curve at multiples of $\\pi/4$.\n",
    "4. $0.1 x (x-3)(x-5)$ is plotted as a thick (`linewidth=10`) green, dotted line.\n",
    "4. the $\\sin(x)$ and the other curve are appropriately labelled in a legend box. \n",
    "4. put at least two useful comments somewhere into your code.\n",
    "4. the file \"T03_plot_data.csv\" contains the following data:\n",
    "\n",
    "        0.2,0.3\n",
    "        1.7,-1\n",
    "        2.9,-1.3\n",
    "        4.5,0\n",
    "        10,-20\n",
    "    plot this data using a black dashed line and use the label \"data\"\n",
    "4. save your figure as the file `T03_plot.pdf`.  \n",
    "\n",
    "If you followed the instruction, your result might look similar to the figure below.\n",
    "\n",
    "![plot](T03_plot.png)"
   ]
  },
  {
   "cell_type": "code",
   "execution_count": null,
   "metadata": {
    "deletable": false,
    "nbgrader": {
     "checksum": "ebc66fe145995b197f796f2b04ad000b",
     "grade": true,
     "grade_id": "cell-06a8f15f45c75950",
     "locked": false,
     "points": 0,
     "schema_version": 1,
     "solution": true
    }
   },
   "outputs": [],
   "source": [
    "# YOUR CODE HERE\n",
    "raise NotImplementedError()"
   ]
  },
  {
   "cell_type": "markdown",
   "metadata": {},
   "source": [
    "# Play with code snippets from the Internet"
   ]
  },
  {
   "cell_type": "markdown",
   "metadata": {},
   "source": [
    "We have seen in the lecture that you can learn a lot by looking at good code examples found online. Let us practice this once more. For example let us have a look at the following example from the [matplotlib gallery]( http://matplotlib.org/examples/subplots_axes_and_figures/subplot_demo.html)\n",
    "\n",
    "    \"\"\"\n",
    "    Simple demo with multiple subplots.\n",
    "    \"\"\"\n",
    "    import numpy as np\n",
    "    import matplotlib.pyplot as plt\n",
    "\n",
    "\n",
    "    x1 = np.linspace(0.0, 5.0)\n",
    "    x2 = np.linspace(0.0, 2.0)\n",
    "\n",
    "    y1 = np.cos(2 * np.pi * x1) * np.exp(-x1)\n",
    "    y2 = np.cos(2 * np.pi * x2)\n",
    "\n",
    "    plt.subplot(2, 1, 1)\n",
    "    plt.plot(x1, y1, 'o-')\n",
    "    plt.title('A tale of 2 subplots')\n",
    "    plt.ylabel('Damped oscillation')\n",
    "\n",
    "    plt.subplot(2, 1, 2)\n",
    "    plt.plot(x2, y2, '.-')\n",
    "    plt.xlabel('time (s)')\n",
    "    plt.ylabel('Undamped')\n",
    "\n",
    "    plt.show()\n",
    "\n",
    "This is a typical example of making two plots side by side. Do the following:\n",
    "\n",
    "Copy and paste the code to your notebook and be sure that it executes."
   ]
  },
  {
   "cell_type": "code",
   "execution_count": null,
   "metadata": {
    "deletable": false,
    "nbgrader": {
     "checksum": "0b193495d555e4ab4fdb51c6b9fc600f",
     "grade": true,
     "grade_id": "cell-0ac13165cb736221",
     "locked": false,
     "points": 0,
     "schema_version": 1,
     "solution": true
    }
   },
   "outputs": [],
   "source": [
    "# YOUR CODE HERE\n",
    "raise NotImplementedError()"
   ]
  },
  {
   "cell_type": "markdown",
   "metadata": {},
   "source": [
    "Go through the code line by line and try to understand it. Use `shift-tab` as necessary to access the documentation for each function that you do not know. \n"
   ]
  },
  {
   "cell_type": "markdown",
   "metadata": {},
   "source": [
    "Try to modify the code so that the figures appear side by side (instead of one on top of the other). Hint: to get more space between panels, you can try `plt.subplots_adjust(hspace=0.4,wspace=0.4)`."
   ]
  },
  {
   "cell_type": "code",
   "execution_count": null,
   "metadata": {
    "deletable": false,
    "nbgrader": {
     "checksum": "6304ca6489190d4fa4a87402146765a1",
     "grade": true,
     "grade_id": "cell-80621d05c5388300",
     "locked": false,
     "points": 0,
     "schema_version": 1,
     "solution": true
    }
   },
   "outputs": [],
   "source": [
    "# YOUR CODE HERE\n",
    "raise NotImplementedError()"
   ]
  },
  {
   "cell_type": "markdown",
   "metadata": {},
   "source": [
    "make a plot with four panels (2 by 2) and plot functions of your choice in each panel. "
   ]
  },
  {
   "cell_type": "code",
   "execution_count": null,
   "metadata": {
    "deletable": false,
    "nbgrader": {
     "checksum": "e6da988663d55d6a5cc11afa09286a21",
     "grade": true,
     "grade_id": "cell-5d1d0cc724fec1a0",
     "locked": false,
     "points": 0,
     "schema_version": 1,
     "solution": true
    }
   },
   "outputs": [],
   "source": [
    "# YOUR CODE HERE\n",
    "raise NotImplementedError()"
   ]
  },
  {
   "cell_type": "markdown",
   "metadata": {},
   "source": [
    "make a plot with three panels, where two smaller panels sit to left of one larger panel"
   ]
  },
  {
   "cell_type": "code",
   "execution_count": null,
   "metadata": {
    "deletable": false,
    "nbgrader": {
     "checksum": "58f4e90e4fcbb3cb2b49bc225bf5cb68",
     "grade": true,
     "grade_id": "cell-0a2200143120cf5c",
     "locked": false,
     "points": 0,
     "schema_version": 1,
     "solution": true
    }
   },
   "outputs": [],
   "source": [
    "# YOUR CODE HERE\n",
    "raise NotImplementedError()"
   ]
  },
  {
   "cell_type": "code",
   "execution_count": null,
   "metadata": {},
   "outputs": [],
   "source": []
  }
 ],
 "metadata": {
  "kernelspec": {
   "display_name": "Python 3",
   "language": "python",
   "name": "python3"
  },
  "language_info": {
   "codemirror_mode": {
    "name": "ipython",
    "version": 3
   },
   "file_extension": ".py",
   "mimetype": "text/x-python",
   "name": "python",
   "nbconvert_exporter": "python",
   "pygments_lexer": "ipython3",
   "version": "3.7.0"
  }
 },
 "nbformat": 4,
 "nbformat_minor": 1
}
